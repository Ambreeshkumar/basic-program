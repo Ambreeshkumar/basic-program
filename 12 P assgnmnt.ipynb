{
 "cells": [
  {
   "cell_type": "code",
   "execution_count": null,
   "id": "3d89209a",
   "metadata": {},
   "outputs": [],
   "source": [
    "Q1. Write a Python program to Extract Unique values dictionary values?\n"
   ]
  },
  {
   "cell_type": "code",
   "execution_count": 15,
   "id": "3981cbbd",
   "metadata": {},
   "outputs": [
    {
     "name": "stdout",
     "output_type": "stream",
     "text": [
      "{'gfg': 3, 'is': 5, 'best': 3, 'for': 5}\n",
      "\n",
      "\n",
      "{3, 5}\n"
     ]
    }
   ],
   "source": [
    "dict = {'gfg' :3,'is' : 5,'best' : 3,'for' : 5}\n",
    "print(dict)\n",
    "print(\"\\n\")\n",
    "print(set(dict.values()))"
   ]
  },
  {
   "cell_type": "code",
   "execution_count": null,
   "id": "5efbde34",
   "metadata": {},
   "outputs": [],
   "source": [
    "Q2. Write a Python program to find the sum of all items in a dictionary?\n"
   ]
  },
  {
   "cell_type": "code",
   "execution_count": 30,
   "id": "319868a8",
   "metadata": {},
   "outputs": [
    {
     "name": "stdout",
     "output_type": "stream",
     "text": [
      "90, 100, 80, 50, \n",
      " sum of item of dictionary =  320\n"
     ]
    }
   ],
   "source": [
    "dict1 = {'python':90,'cpp':100,'java':80,'php':50}\n",
    "sum = 0\n",
    "for i in(dict1):\n",
    "    print(dict1[i],end=\", \")\n",
    "    sum = sum+dict1[i]\n",
    "\n",
    "print(\"\\n sum of item of dictionary = \",sum)\n",
    "    "
   ]
  },
  {
   "cell_type": "code",
   "execution_count": null,
   "id": "07f279b5",
   "metadata": {},
   "outputs": [],
   "source": [
    "Q3. Write a Python program to Merging two Dictionaries?"
   ]
  },
  {
   "cell_type": "code",
   "execution_count": 38,
   "id": "459c2c62",
   "metadata": {},
   "outputs": [
    {
     "name": "stdout",
     "output_type": "stream",
     "text": [
      "{'python': 90, 'cpp': 100, 'java': 80, 'php': 50, 'adharsh': 45, 'gajodhar': 56, 'abhishesh': 76} \n",
      "\n",
      "{'adharsh': 45, 'gajodhar': 56, 'abhishesh': 76} \n",
      "\n",
      "second methode \n",
      "\n",
      "{'python': 90, 'cpp': 100, 'java': 80, 'php': 50, 'adharsh': 45, 'gajodhar': 56, 'abhishesh': 76}\n"
     ]
    }
   ],
   "source": [
    "dict1 = {'python':90,'cpp':100,'java':80,'php':50}\n",
    "dict2 = {\"adharsh\":45,\"gajodhar\":56,\"abhishesh\":76}\n",
    "\n",
    "\n",
    "\n",
    "# first methode with update() function to merging two dictionaries:\n",
    "dict1.update(dict2)\n",
    "print(dict1,\"\\n\")\n",
    "print(dict2,\"\\n\")\n",
    "\n",
    "\n",
    "# second methode with **kwargs to marging two dictionaries:\n",
    "print(\"second methode \\n\")\n",
    "\n",
    "\n",
    "dict3 = {**dict1,**dict2}\n",
    "print(dict3)\n",
    "\n"
   ]
  },
  {
   "cell_type": "code",
   "execution_count": null,
   "id": "a93bfa08",
   "metadata": {},
   "outputs": [],
   "source": [
    "Q4. Write a Python program to convert key-values list to flat dictionary?\n"
   ]
  },
  {
   "cell_type": "code",
   "execution_count": 41,
   "id": "c9ad295d",
   "metadata": {},
   "outputs": [
    {
     "name": "stdout",
     "output_type": "stream",
     "text": [
      "['python', 'cpp', 'java', 'php']\n"
     ]
    }
   ],
   "source": [
    "dict1 = {'python':90,'cpp':100,'java':80,'php':50}\n",
    "a = []\n",
    "for i in(dict1):\n",
    "    a.append(i)\n",
    "print(a)\n",
    "    "
   ]
  },
  {
   "cell_type": "code",
   "execution_count": null,
   "id": "3d18a288",
   "metadata": {},
   "outputs": [],
   "source": [
    "Q5. Write a Python program to insertion at the beginning in OrderedDict?"
   ]
  },
  {
   "cell_type": "code",
   "execution_count": 5,
   "id": "bac8c45f",
   "metadata": {},
   "outputs": [
    {
     "name": "stdout",
     "output_type": "stream",
     "text": [
      "Requirement already satisfied: orderedDict in c:\\users\\ambreesh kumar\\anaconda3\\lib\\site-packages (1.1)\n"
     ]
    }
   ],
   "source": [
    "! pip install orderedDict"
   ]
  },
  {
   "cell_type": "code",
   "execution_count": 7,
   "id": "f22540b2",
   "metadata": {},
   "outputs": [
    {
     "name": "stdout",
     "output_type": "stream",
     "text": [
      "{'python': 90, 'php': 50, 'java': 80, 'cpp': 100}\n"
     ]
    }
   ],
   "source": [
    "dict1 = {('python',90),('cpp',100),('java',80),('php',50)}\n",
    "d= {}\n",
    "for name,score in dict1:\n",
    "    d[name] = score\n",
    "print(d)\n",
    "\n",
    "# if i print d{} dictionary, this d{} dictionary are not \n",
    "# print in a syquaince this method is not a parfect to print \n",
    "# and dict1 dictionary convert into d{} dictionary\n",
    "\n",
    "\n",
    "\n"
   ]
  },
  {
   "cell_type": "code",
   "execution_count": 12,
   "id": "02675fd8",
   "metadata": {},
   "outputs": [
    {
     "name": "stdout",
     "output_type": "stream",
     "text": [
      "OrderedDict([('A', '100'), ('B', '200'), ('C', '300'), ('D', '400')])\n",
      "Resultant Dictionary :\n",
      "OrderedDict([('D', '400'), ('A', '100'), ('B', '200'), ('C', '300')])\n"
     ]
    }
   ],
   "source": [
    "# here i have used the orderedDict  module to solve this problem\n",
    "\n",
    "\n",
    "from collections import OrderedDict  \n",
    "dic1 = OrderedDict([('A', '100'), ('B', '200'), ('C', '300')])\n",
    "\n",
    "dic1.update({\"D\": '400'})\n",
    "print(dic1)\n",
    "\n",
    "dic1.move_to_end(\"D\", last=False)\n",
    "  \n",
    "\n",
    "print (\"Resultant Dictionary :\")\n",
    "print(dic1)\n",
    "\n",
    "\n",
    "\n",
    "\n",
    "\n",
    "\n",
    "\n",
    "\n"
   ]
  },
  {
   "cell_type": "code",
   "execution_count": 16,
   "id": "2a41efe9",
   "metadata": {},
   "outputs": [
    {
     "name": "stdout",
     "output_type": "stream",
     "text": [
      "OrderedDict([('python', 90), ('cpp', 100), ('java', 80), ('php', 50)])\n"
     ]
    }
   ],
   "source": [
    "scores = [('python',90),('cpp',100),('java',80),('php',50)]\n",
    "d = {}\n",
    "from collections import OrderedDict\n",
    "odict = OrderedDict(scores)\n",
    "print(odict)\n",
    "\n"
   ]
  },
  {
   "cell_type": "code",
   "execution_count": null,
   "id": "167c4e01",
   "metadata": {},
   "outputs": [],
   "source": [
    "Q6. Write a Python program to check order of character in string using OrderedDict()?"
   ]
  },
  {
   "cell_type": "code",
   "execution_count": 17,
   "id": "6a7d3b09",
   "metadata": {},
   "outputs": [
    {
     "name": "stdout",
     "output_type": "stream",
     "text": [
      "true\n"
     ]
    }
   ],
   "source": [
    "# characters defined by a pattern \n",
    "from collections import OrderedDict \n",
    "  \n",
    "def checkOrder(input, pattern): \n",
    "      \n",
    "    # create empty OrderedDict \n",
    "    # output will be like {'a': None,'b': None, 'c': None} \n",
    "    dict = OrderedDict.fromkeys(input) \n",
    "  \n",
    "    # traverse generated OrderedDict parallel with \n",
    "    # pattern string to check if order of characters \n",
    "    # are same or not \n",
    "    ptrlen = 0\n",
    "    for key,value in dict.items(): \n",
    "        if (key == pattern[ptrlen]): \n",
    "            ptrlen = ptrlen + 1\n",
    "            \n",
    "            # check if we have traverse complete \n",
    "        # pattern string \n",
    "        if (ptrlen == (len(pattern))): \n",
    "            return 'true'\n",
    "  \n",
    "    # if we come out from for loop that means \n",
    "    # order was mismatched \n",
    "    return 'false'\n",
    "  \n",
    "# Driver program \n",
    "if __name__ == \"__main__\": \n",
    "    input = 'engineers rock'\n",
    "    pattern = 'egr'\n",
    "    print (checkOrder(input,pattern)) \n",
    "            \n",
    "                    "
   ]
  },
  {
   "cell_type": "code",
   "execution_count": null,
   "id": "1000605b",
   "metadata": {},
   "outputs": [],
   "source": [
    "Q7. Write a Python program to sort Python Dictionaries by Key or Value?\n"
   ]
  },
  {
   "cell_type": "code",
   "execution_count": 20,
   "id": "5126820a",
   "metadata": {},
   "outputs": [
    {
     "name": "stdout",
     "output_type": "stream",
     "text": [
      "Task 1:-\n",
      "\n",
      "Keys are\n",
      "1 2 3 4 5 6 "
     ]
    }
   ],
   "source": [
    "# Function calling\n",
    "def dictionairy():\n",
    " # Declare hash function     \n",
    " key_value ={}   \n",
    " \n",
    "# Initializing value\n",
    " key_value[2] = 56      \n",
    " key_value[1] = 2\n",
    " key_value[5] = 12\n",
    " key_value[4] = 24\n",
    " key_value[6] = 18     \n",
    " key_value[3] = 323\n",
    " \n",
    " print (\"Task 1:-\\n\")\n",
    " print (\"Keys are\")\n",
    "  \n",
    " # iterkeys() returns an iterator over the\n",
    " # dictionary’s keys.\n",
    " for i in sorted (key_value.keys()) :\n",
    "     print(i, end = \" \")\n",
    "    \n",
    "def main():\n",
    "    # function calling\n",
    "    dictionairy()            \n",
    "     \n",
    "# Main function calling\n",
    "if __name__==\"__main__\":     \n",
    "    main()\n",
    " "
   ]
  }
 ],
 "metadata": {
  "kernelspec": {
   "display_name": "Python 3",
   "language": "python",
   "name": "python3"
  },
  "language_info": {
   "codemirror_mode": {
    "name": "ipython",
    "version": 3
   },
   "file_extension": ".py",
   "mimetype": "text/x-python",
   "name": "python",
   "nbconvert_exporter": "python",
   "pygments_lexer": "ipython3",
   "version": "3.8.8"
  }
 },
 "nbformat": 4,
 "nbformat_minor": 5
}
