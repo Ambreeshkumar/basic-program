{
 "cells": [
  {
   "cell_type": "code",
   "execution_count": null,
   "id": "99766ddf",
   "metadata": {},
   "outputs": [],
   "source": [
    "Q1. Write a Python Program to Add Two Matrices?\n"
   ]
  },
  {
   "cell_type": "code",
   "execution_count": 20,
   "id": "12f8cf79",
   "metadata": {},
   "outputs": [
    {
     "name": "stdout",
     "output_type": "stream",
     "text": [
      "enter the value of m2\n",
      "enter the valus of n2\n",
      "enter the matrix A\n",
      "enter O[0][0]1\n",
      "enter O[0][1]2\n",
      "enter O[1][0]3\n",
      "enter O[1][1]4\n",
      "[[1, 2], [3, 4]]\n",
      "enter the matrix B\n",
      "enter O[0][0]5\n",
      "enter O[0][1]6\n",
      "enter O[1][0]7\n",
      "enter O[1][1]8\n",
      "[[5, 6], [7, 8]]\n",
      "[6, 7, 11, 12]\n"
     ]
    }
   ],
   "source": [
    "def matrix(m,n):\n",
    "    O = []\n",
    "    for i in range(m):\n",
    "        row = []\n",
    "        for j in range(n):\n",
    "            inp = int(input(f\"enter O[{i}][{j}]\"))\n",
    "            row.append(inp)\n",
    "        O.append(row)\n",
    "    return O\n",
    "def sum(A,B):\n",
    "    output = []\n",
    "    for i in range(len(A)):\n",
    "        row = []\n",
    "        for j in range(len(A[0])):\n",
    "            output.append(A[i][j] + B[i][i])\n",
    "    return output\n",
    "            \n",
    "        \n",
    "\n",
    "\n",
    "m = int(input(\"enter the value of m\"))\n",
    "n = int(input(\"enter the valus of n\"))\n",
    "\n",
    "\n",
    "\n",
    "print(\"enter the matrix A\")\n",
    "A = matrix(m,n)\n",
    "print(A)\n",
    "\n",
    "\n",
    "print(\"enter the matrix B\")\n",
    "B = matrix(m,n)\n",
    "print(B)\n",
    "\n",
    "\n",
    "s = sum(A,B)\n",
    "print(s)\n",
    "\n"
   ]
  },
  {
   "cell_type": "code",
   "execution_count": null,
   "id": "0792e122",
   "metadata": {},
   "outputs": [],
   "source": [
    "Q2. Write a Python Program to Multiply Two Matrices?\n"
   ]
  },
  {
   "cell_type": "code",
   "execution_count": 21,
   "id": "7e8f0079",
   "metadata": {},
   "outputs": [
    {
     "name": "stdout",
     "output_type": "stream",
     "text": [
      "enter the value of m2\n",
      "enter the valus of n2\n",
      "enter the matrix A\n",
      "enter O[0][0]1\n",
      "enter O[0][1]2\n",
      "enter O[1][0]3\n",
      "enter O[1][1]4\n",
      "[[1, 2], [3, 4]]\n",
      "enter the matrix B\n",
      "enter O[0][0]5\n",
      "enter O[0][1]6\n",
      "enter O[1][0]7\n",
      "enter O[1][1]8\n",
      "[[5, 6], [7, 8]]\n",
      "[5, 10, 24, 32]\n"
     ]
    }
   ],
   "source": [
    "def matrix(m,n):\n",
    "    O = []\n",
    "    for i in range(m):\n",
    "        row = []\n",
    "        for j in range(n):\n",
    "            inp = int(input(f\"enter O[{i}][{j}]\"))\n",
    "            row.append(inp)\n",
    "        O.append(row)\n",
    "    return O\n",
    "def sum(A,B):\n",
    "    output = []\n",
    "    for i in range(len(A)):\n",
    "        row = []\n",
    "        for j in range(len(A[0])):\n",
    "            output.append(A[i][j] * B[i][i])\n",
    "    return output\n",
    "            \n",
    "        \n",
    "\n",
    "\n",
    "m = int(input(\"enter the value of m\"))\n",
    "n = int(input(\"enter the valus of n\"))\n",
    "\n",
    "\n",
    "\n",
    "print(\"enter the matrix A\")\n",
    "A = matrix(m,n)\n",
    "print(A)\n",
    "\n",
    "\n",
    "print(\"enter the matrix B\")\n",
    "B = matrix(m,n)\n",
    "print(B)\n",
    "\n",
    "\n",
    "s = sum(A,B)\n",
    "print(s)\n",
    "\n"
   ]
  },
  {
   "cell_type": "code",
   "execution_count": null,
   "id": "daf2b26f",
   "metadata": {},
   "outputs": [],
   "source": [
    "Q3. Write a Python Program to Transpose a Matrix?\n"
   ]
  },
  {
   "cell_type": "code",
   "execution_count": 11,
   "id": "5a3d4a9f",
   "metadata": {},
   "outputs": [
    {
     "name": "stdout",
     "output_type": "stream",
     "text": [
      "Result matrix is\n",
      "1  2  3  4  \n",
      "2  2  3  4  \n",
      "3  3  3  4  \n",
      "4  4  4  4  \n"
     ]
    }
   ],
   "source": [
    "\n",
    "  \n",
    "N = 4\n",
    "   \n",
    "# This function stores\n",
    "# transpose of A[][] in B[][]\n",
    "  \n",
    "def transpose(A,B):\n",
    "  \n",
    "    for i in range(N):\n",
    "        for j in range(N):\n",
    "            B[i][j] = A[j][i]\n",
    "            \n",
    "# driver code\n",
    "A = [ [1, 1, 1, 1],\n",
    "    [2, 2, 2, 2],\n",
    "    [3, 3, 3, 3],\n",
    "    [4, 4, 4, 4]]\n",
    "   \n",
    "   \n",
    "B = A[:][:] # To store result\n",
    "  \n",
    "transpose(A, B)\n",
    "   \n",
    "print(\"Result matrix is\")\n",
    "for i in range(N):\n",
    "    for j in range(N):\n",
    "        print(B[i][j], \" \", end='')\n",
    "    print()"
   ]
  },
  {
   "cell_type": "code",
   "execution_count": null,
   "id": "f89dba65",
   "metadata": {},
   "outputs": [],
   "source": [
    "Q4. Write a Python Program to Sort Words in Alphabetic Order?\n"
   ]
  },
  {
   "cell_type": "code",
   "execution_count": 23,
   "id": "4603b34b",
   "metadata": {},
   "outputs": [
    {
     "name": "stdout",
     "output_type": "stream",
     "text": [
      "Alphabetic\n",
      "Order?\n",
      "Program\n",
      "Python\n",
      "Sort\n",
      "Words\n",
      "Write\n",
      "a\n",
      "in\n",
      "to\n"
     ]
    }
   ],
   "source": [
    "s = (\"Write a Python Program to Sort Words in Alphabetic Order?\")\n",
    "a = s.split()\n",
    "a.sort()\n",
    "for i in a:\n",
    "    print(i)"
   ]
  },
  {
   "cell_type": "code",
   "execution_count": null,
   "id": "70372678",
   "metadata": {},
   "outputs": [],
   "source": [
    "Q5. Write a Python Program to Remove Punctuation From a String?\n"
   ]
  },
  {
   "cell_type": "code",
   "execution_count": 28,
   "id": "97561534",
   "metadata": {},
   "outputs": [
    {
     "name": "stdout",
     "output_type": "stream",
     "text": [
      "enter string:amb^$mndf$sj()jhsj\n",
      "ambmndfsjjhsj\n"
     ]
    }
   ],
   "source": [
    "punctuations = \"!@#$%^&*{}[](|\\/.,)\"\n",
    "my_str = input(\"enter string:\")\n",
    "no_punct=\"\"\n",
    "\n",
    "for char in my_str:\n",
    "    if char not in punctuations:\n",
    "        no_punct = no_punct+char\n",
    "print(no_punct)"
   ]
  }
 ],
 "metadata": {
  "kernelspec": {
   "display_name": "Python 3",
   "language": "python",
   "name": "python3"
  },
  "language_info": {
   "codemirror_mode": {
    "name": "ipython",
    "version": 3
   },
   "file_extension": ".py",
   "mimetype": "text/x-python",
   "name": "python",
   "nbconvert_exporter": "python",
   "pygments_lexer": "ipython3",
   "version": "3.8.8"
  }
 },
 "nbformat": 4,
 "nbformat_minor": 5
}
