{
 "cells": [
  {
   "cell_type": "code",
   "execution_count": null,
   "id": "37239bc4",
   "metadata": {},
   "outputs": [],
   "source": [
    "Q1. Write a Python program to check if the given number is a Disarium Number?"
   ]
  },
  {
   "cell_type": "code",
   "execution_count": 3,
   "id": "7adb0248",
   "metadata": {},
   "outputs": [
    {
     "name": "stdout",
     "output_type": "stream",
     "text": [
      "enter the any number165\n",
      "number is disarium number\n"
     ]
    }
   ],
   "source": [
    "num = int(input(\"enter the any number\"))\n",
    "sum = 0\n",
    "j = 1\n",
    "temp = num\n",
    "while (temp!=0):\n",
    "    rem =  temp%10\n",
    "    sum = sum*10+rem\n",
    "    temp = int(temp/10)\n",
    "temp = sum\n",
    "sum = 0\n",
    "while (temp!=0):\n",
    "    sum = temp%10\n",
    "    sum = sum+pow(rem,j)\n",
    "    temp = int(temp/10)\n",
    "    j = j+1\n",
    "if sum == sum:\n",
    "    print(\"number is disarium number\")\n",
    "else:\n",
    "    print(\"number is not disarium\")\n",
    "    "
   ]
  },
  {
   "cell_type": "code",
   "execution_count": null,
   "id": "a11b6173",
   "metadata": {},
   "outputs": [],
   "source": [
    "Q2. Write a Python program to print all disarium numbers between 1 to 100?\n",
    "\n"
   ]
  },
  {
   "cell_type": "code",
   "execution_count": null,
   "id": "7b499bb8",
   "metadata": {},
   "outputs": [],
   "source": [
    "num = int(input(\"enter the first number\"))\n",
    "num1 = int(input(\"enter the second number\"))\n",
    "sum = 0\n",
    "j = 1\n",
    "temp = num\n",
    "while (temp!=0):\n",
    "    rem = temp%10\n",
    "    sum = sum*10+rem\n",
    "    temp = int(temp/10)\n",
    "temp = sum\n",
    "sum = 0\n",
    "while (temp!=0):\n",
    "    sum = temp%10\n",
    "    sum = sum+pow(rem,j)\n",
    "    temp = int(temp/10)\n",
    "    j = j+1\n",
    "if sum == sum:\n",
    "    print(\"number is disarium number\")\n",
    "else:\n",
    "    print(\"number is not disarium\")\n",
    "    "
   ]
  },
  {
   "cell_type": "code",
   "execution_count": null,
   "id": "a0a875fa",
   "metadata": {},
   "outputs": [],
   "source": [
    "Q3. Write a Python program to check if the given number is Happy Number?"
   ]
  },
  {
   "cell_type": "code",
   "execution_count": 9,
   "id": "c20a50e8",
   "metadata": {},
   "outputs": [
    {
     "name": "stdout",
     "output_type": "stream",
     "text": [
      "enter the number19\n",
      "82\n"
     ]
    }
   ],
   "source": [
    "num = int(input(\"enter the number\"))\n",
    "sum = 0\n",
    "if (sum==1):\n",
    "    print(\"happy number\")\n",
    "else:\n",
    "    while (num>0):\n",
    "        sum = sum+(num%10)**2\n",
    "        num = num//10\n",
    "    print(sum)\n",
    "\n",
    "    "
   ]
  },
  {
   "cell_type": "code",
   "execution_count": 15,
   "id": "9cffb846",
   "metadata": {},
   "outputs": [
    {
     "name": "stdout",
     "output_type": "stream",
     "text": [
      "13 is a Happy number\n"
     ]
    }
   ],
   "source": [
    "def numSquareSum(n):\n",
    "    squareSum = 0;\n",
    "    while(n):\n",
    "        squareSum += (n % 10) * (n % 10);\n",
    "        n = int(n / 10);\n",
    "    return squareSum;\n",
    "\n",
    "def isHappynumber(n):\n",
    " \n",
    "    \n",
    "    slow = n;\n",
    "    fast = n;\n",
    "    while(True):\n",
    "        slow = numSquareSum(slow);\n",
    " \n",
    "        \n",
    "        fast = numSquareSum(numSquareSum(fast));\n",
    "        if(slow != fast):\n",
    "            continue;\n",
    "        else:\n",
    "            break;\n",
    " \n",
    "    \n",
    "    return (slow == 1);\n",
    "n = 13;\n",
    "if (isHappynumber(n)):\n",
    "    print(n , \"is a Happy number\");\n",
    "else:\n",
    "    print(n , \"is not a Happy number\");\n",
    " \n",
    "# This code is contributed by mits\n",
    " "
   ]
  },
  {
   "cell_type": "code",
   "execution_count": null,
   "id": "e19afab6",
   "metadata": {},
   "outputs": [],
   "source": [
    "Q4. Write a Python program to print all happy numbers between 1 and 100?\n"
   ]
  },
  {
   "cell_type": "code",
   "execution_count": null,
   "id": "013ef454",
   "metadata": {},
   "outputs": [],
   "source": [
    "def numSquareSum(n):\n",
    "    squareSum = 0;\n",
    "    while(n):\n",
    "        squareSum += (n % 10) * (n % 10);\n",
    "        n = int(n / 10);\n",
    "    return squareSum;\n",
    "\n",
    "def isHappynumber(n):\n",
    " \n",
    "    \n",
    "    slow = n;\n",
    "    fast = n;\n",
    "    while(True):\n",
    "        slow = numSquareSum(slow);\n",
    " \n",
    "        \n",
    "        fast = numSquareSum(numSquareSum(fast));\n",
    "        if(slow != fast):\n",
    "            continue;\n",
    "        else:\n",
    "            break;\n",
    " \n",
    "    \n",
    "    return (slow == 1);\n",
    "n = 13;\n",
    "if (isHappynumber(n)):\n",
    "    print(n , \"is a Happy number\");\n",
    "else:\n",
    "    print(n , \"is not a Happy number\");\n",
    " \n",
    "# This code is contributed by mits\n",
    " "
   ]
  },
  {
   "cell_type": "code",
   "execution_count": null,
   "id": "6831131c",
   "metadata": {},
   "outputs": [],
   "source": [
    "Q5. Write a Python program to determine whether the given number is a Harshad Number?\n"
   ]
  },
  {
   "cell_type": "code",
   "execution_count": 4,
   "id": "4a66afc0",
   "metadata": {},
   "outputs": [
    {
     "name": "stdout",
     "output_type": "stream",
     "text": [
      "enter the number to check the harshed number32\n",
      "5\n",
      "is not harshed number\n"
     ]
    }
   ],
   "source": [
    "num = int(input(\"enter the number to check the harshed number\"))\n",
    "orig = num\n",
    "sum = 0\n",
    "while (num>0):\n",
    "    sum = sum+(num%10)\n",
    "    num = num//10\n",
    "print(sum)\n",
    "if (orig%sum==0):\n",
    "    print(\"harshed number\")\n",
    "else:\n",
    "    print(\"is not harshed number\")"
   ]
  },
  {
   "cell_type": "code",
   "execution_count": null,
   "id": "f708594d",
   "metadata": {},
   "outputs": [],
   "source": [
    "Q6. Write a Python program to print all pronic numbers between 1 and 100?\n"
   ]
  },
  {
   "cell_type": "code",
   "execution_count": 21,
   "id": "1d118867",
   "metadata": {},
   "outputs": [
    {
     "name": "stdout",
     "output_type": "stream",
     "text": [
      "enter the number20\n",
      "number is a pronic number: \n"
     ]
    }
   ],
   "source": [
    "num = int(input(\"enter the number to check the pronic or not \"))\n",
    "orig = num\n",
    "\n",
    "for i in range(1,num):\n",
    "    prod = i*(i+1)\n",
    "    if (prod==orig):\n",
    "        print(\"number is a pronic number: \")\n",
    "        break\n",
    "else:\n",
    "    print(\"number is not a pronic number: \")\n",
    "\n"
   ]
  },
  {
   "cell_type": "code",
   "execution_count": 28,
   "id": "5b43e83e",
   "metadata": {},
   "outputs": [
    {
     "name": "stdout",
     "output_type": "stream",
     "text": [
      "enter the first number2\n",
      "enter the second number20\n",
      "number is a pronic number 20\n",
      "1\n",
      "number is not a pronic number 380\n"
     ]
    }
   ],
   "source": [
    "num1 = int(input(\"enter the first number\"))\n",
    "num2 = int(input(\"enter the second number\"))\n",
    "for i in range(num1,num2):\n",
    "    prod = i*(i+1)\n",
    "    if (prod == orig):\n",
    "        count=count+1\n",
    "        print(\"number is a pronic number\",prod)\n",
    "        \n",
    "        \n",
    "else:\n",
    "    print(\"number is not a pronic number\",prod)\n",
    "    "
   ]
  },
  {
   "cell_type": "code",
   "execution_count": 54,
   "id": "057f24d7",
   "metadata": {},
   "outputs": [
    {
     "name": "stdout",
     "output_type": "stream",
     "text": [
      "2\n",
      "6\n",
      "12\n",
      "20\n"
     ]
    }
   ],
   "source": [
    "num1 = 1\n",
    "num2 = 20\n",
    "i = num1\n",
    "prod = 0\n",
    "while (num2 > prod):\n",
    "    prod = i*(i+1)\n",
    "    print(prod)\n",
    "    i=i+1\n",
    "    "
   ]
  },
  {
   "cell_type": "code",
   "execution_count": null,
   "id": "66d718c0",
   "metadata": {},
   "outputs": [],
   "source": [
    "num = int(input(\"enter the first number\"))\n",
    "num1 = int(input(\"enter the second number\"))\n",
    "i = num\n",
    "prod = 1\n",
    "\n",
    "while (num1 > prod-1):\n",
    "    prod = i*(i+1)\n",
    "    print(prod,end=\" ,\")\n",
    "    i = i+1\n",
    "    \n",
    "    \n"
   ]
  },
  {
   "cell_type": "code",
   "execution_count": null,
   "id": "46b1f8f5",
   "metadata": {},
   "outputs": [],
   "source": []
  }
 ],
 "metadata": {
  "kernelspec": {
   "display_name": "Python 3",
   "language": "python",
   "name": "python3"
  },
  "language_info": {
   "codemirror_mode": {
    "name": "ipython",
    "version": 3
   },
   "file_extension": ".py",
   "mimetype": "text/x-python",
   "name": "python",
   "nbconvert_exporter": "python",
   "pygments_lexer": "ipython3",
   "version": "3.8.8"
  }
 },
 "nbformat": 4,
 "nbformat_minor": 5
}
