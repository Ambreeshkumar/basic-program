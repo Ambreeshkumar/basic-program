{
 "cells": [
  {
   "cell_type": "code",
   "execution_count": null,
   "id": "82dd476b",
   "metadata": {},
   "outputs": [],
   "source": [
    "Q1. Write a Python program to find words which are greater than given length k?\n"
   ]
  },
  {
   "cell_type": "code",
   "execution_count": 2,
   "id": "1f87ff38",
   "metadata": {},
   "outputs": [
    {
     "name": "stdout",
     "output_type": "stream",
     "text": [
      "['neuron', 'data', 'science']\n"
     ]
    }
   ],
   "source": [
    "# function find string greater than length k\n",
    "def string_k(k, str):\n",
    "     \n",
    "    # create the empty string\n",
    "    string = []\n",
    "     \n",
    "    # split the string where space is comes\n",
    "    text = str.split(\" \")\n",
    "     \n",
    "    # iterate the loop till every substring\n",
    "    for x in text:\n",
    "        \n",
    "        # if length of current sub string\n",
    "        # is greater than k then\n",
    "        if len(x) > k:\n",
    "             \n",
    "            # append this sub string in\n",
    "            # string list\n",
    "            string.append(x)\n",
    "             \n",
    "     # return string list\n",
    "    return string\n",
    " \n",
    " \n",
    "# Driver Program    \n",
    "k = 3\n",
    "str =\"i neuron data science \"\n",
    "print(string_k(k, str))"
   ]
  },
  {
   "cell_type": "code",
   "execution_count": null,
   "id": "c0d15793",
   "metadata": {},
   "outputs": [],
   "source": [
    "\n",
    "def string_k(k, str):\n",
    "     \n",
    "    \n",
    "    string = []\n",
    "     \n",
    "    \n",
    "    text = str.split(\" \")\n",
    "     \n",
    "    for x in text:\n",
    "        if len(x) > k:\n",
    "            \n",
    "            string.append(x)\n",
    "             \n",
    "    return string\n",
    " \n",
    " \n",
    "# Driver Program    \n",
    "k = 3\n",
    "str =\"i neuron data science \"\n",
    "print(string_k(k, str))"
   ]
  },
  {
   "cell_type": "code",
   "execution_count": 4,
   "id": "ce9f7e43",
   "metadata": {},
   "outputs": [
    {
     "name": "stdout",
     "output_type": "stream",
     "text": [
      "['neuron', 'science']\n"
     ]
    }
   ],
   "source": [
    "str =\"i neuron data science \"\n",
    "a = []\n",
    "text = str.split(\" \")\n",
    "k=5\n",
    "for i in text:\n",
    "    if len(i) > k:\n",
    "        a.append(i)\n",
    "print(a)\n",
    "    "
   ]
  },
  {
   "cell_type": "code",
   "execution_count": null,
   "id": "5334ba29",
   "metadata": {},
   "outputs": [],
   "source": [
    "Q2. Write a Python program for removing i-th character from a string?\n"
   ]
  },
  {
   "cell_type": "code",
   "execution_count": null,
   "id": "68567a24",
   "metadata": {},
   "outputs": [],
   "source": [
    "# Remove i'th character\n",
    "string=\"Python\"\n",
    "i=4\n",
    "print(\"original: \",string)\n",
    "# Initialise new string\n",
    "new_s= \"\"\n",
    "# Removing character\n",
    "for k in range(len(string)):\n",
    "    if k!=i-1:\n",
    "        new_s=new_s+string[k]\n",
    "\n",
    "# After removal of character\n",
    "print(\"After removing: \",new_s)\n"
   ]
  },
  {
   "cell_type": "code",
   "execution_count": null,
   "id": "25c5c379",
   "metadata": {},
   "outputs": [],
   "source": [
    "Q3. Write a Python program to split and join a string?\n"
   ]
  },
  {
   "cell_type": "code",
   "execution_count": 4,
   "id": "c35b5783",
   "metadata": {},
   "outputs": [
    {
     "name": "stdout",
     "output_type": "stream",
     "text": [
      "['split', 'and', 'join', 'is', 'a', 'inbuld', 'function', 'in', 'python:']\n",
      "John#Peter#Vicky\n"
     ]
    }
   ],
   "source": [
    "# split and join is a inbuld function in python:\n",
    "str = (\"split and join is a inbuld function in python:\")\n",
    "\n",
    "# use split function:\n",
    "spl = str.split()\n",
    "print(spl)\n",
    "\n",
    "# split function is split a string into list\n",
    "\n",
    "# join functio is to use the join two string:\n",
    "\n",
    "# The join() method takes all items in an iterable \n",
    "# and joins them into one string.\n",
    "\n",
    "# A string must be specified as the separator.\n",
    "\n",
    "\n",
    "\n",
    "myTuple = (\"John\", \"Peter\", \"Vicky\")\n",
    "\n",
    "x = \"#\".join(myTuple)\n",
    "\n",
    "print(x)\n",
    "\n"
   ]
  },
  {
   "cell_type": "code",
   "execution_count": null,
   "id": "a40b7bfc",
   "metadata": {},
   "outputs": [],
   "source": [
    "Q4. Write a Python to check if a given string is binary string or not?\n"
   ]
  },
  {
   "cell_type": "code",
   "execution_count": null,
   "id": "e2b04a7e",
   "metadata": {},
   "outputs": [],
   "source": [
    "stringA = '0110101010111'\n",
    "b = {'0','1'}\n",
    "t = set(stringA)\n",
    "\n",
    "if b == t or t == {'0'} or t == {'1'}:\n",
    "print(\"StringA is a binary string.\")\n",
    "else:\n",
    "print(\"StringA is not a binary string.\")\n",
    "\n",
    "stringB = '0120101010111'\n",
    "u = set(stringB)\n",
    "\n",
    "if b == u or u == {'0'} or u == {'1'}:\n",
    "print(\"StringB is a binary string.\")\n",
    "else:\n",
    "print(\"StringB is not a binary string.\")"
   ]
  },
  {
   "cell_type": "code",
   "execution_count": null,
   "id": "fc91fb70",
   "metadata": {},
   "outputs": [],
   "source": [
    "Q5. Write a Python program to find uncommon words from two Strings?\n"
   ]
  },
  {
   "cell_type": "code",
   "execution_count": 5,
   "id": "46debd3f",
   "metadata": {},
   "outputs": [
    {
     "name": "stdout",
     "output_type": "stream",
     "text": [
      "['Learning', 'from']\n"
     ]
    }
   ],
   "source": [
    "# Function to return all uncommon words\n",
    "def UncommonWords(A, B):\n",
    "  \n",
    "    # count will contain all the word counts\n",
    "    count = {}\n",
    "      \n",
    "    # insert words of string A to hash\n",
    "    for word in A.split():\n",
    "        count[word] = count.get(word, 0) + 1\n",
    "      \n",
    "    # insert words of string B to hash\n",
    "    for word in B.split():\n",
    "        count[word] = count.get(word, 0) + 1\n",
    "  \n",
    "    # return required list of words\n",
    "    return [word for word in count if count[word] == 1]\n",
    "# Driver Code\n",
    "A = \"Geeks for Geeks\"\n",
    "B = \"Learning from Geeks for Geeks\"\n",
    "  \n",
    "# Print required answer\n",
    "print(UncommonWords(A, B))"
   ]
  },
  {
   "cell_type": "code",
   "execution_count": null,
   "id": "22dc79d9",
   "metadata": {},
   "outputs": [],
   "source": [
    "Q6. Write a Python to find all duplicate characters in string?\n"
   ]
  },
  {
   "cell_type": "code",
   "execution_count": 6,
   "id": "c33c62ea",
   "metadata": {},
   "outputs": [
    {
     "name": "stdout",
     "output_type": "stream",
     "text": [
      "t o i \n"
     ]
    }
   ],
   "source": [
    "## initializing string\n",
    "string = \"tutorialspoint\"\n",
    "## initializing a dictionary\n",
    "duplicates = {}\n",
    "for char in string:\n",
    "   ## checking whether the char is already present in dictionary or not\n",
    "   if char in duplicates:\n",
    "      ## increasing count if present\n",
    "      duplicates[char] += 1\n",
    "   else:\n",
    "      ## initializing count to 1 if not present\n",
    "      duplicates[char] = 1\n",
    "for key, value in duplicates.items():\n",
    "   if value > 1:\n",
    "      print(key, end = \" \")\n",
    "print()"
   ]
  },
  {
   "cell_type": "code",
   "execution_count": null,
   "id": "6ddcfe30",
   "metadata": {},
   "outputs": [],
   "source": [
    "Q7. Write a Python Program to check if a string contains any special character?\n"
   ]
  },
  {
   "cell_type": "code",
   "execution_count": 7,
   "id": "17bbcbbb",
   "metadata": {},
   "outputs": [
    {
     "name": "stdout",
     "output_type": "stream",
     "text": [
      "The string is :\n",
      "PythonInterpreter\n",
      "String contains special characters.\n"
     ]
    }
   ],
   "source": [
    "import re\n",
    "\n",
    "def check_string(my_string):\n",
    "\n",
    "   regex = re.compile('[@_!#$%^&*()<>?/\\|}{~:]')\n",
    "   if(regex.search(my_string) == None):\n",
    "      print(\"String contains special characters.\")\n",
    "   else:\n",
    "      print(\"String does not contain any special character.\")\n",
    "\n",
    "my_string = \"PythonInterpreter\"\n",
    "print(\"The string is :\")\n",
    "print(my_string)\n",
    "check_string(my_string)"
   ]
  }
 ],
 "metadata": {
  "kernelspec": {
   "display_name": "Python 3",
   "language": "python",
   "name": "python3"
  },
  "language_info": {
   "codemirror_mode": {
    "name": "ipython",
    "version": 3
   },
   "file_extension": ".py",
   "mimetype": "text/x-python",
   "name": "python",
   "nbconvert_exporter": "python",
   "pygments_lexer": "ipython3",
   "version": "3.8.8"
  }
 },
 "nbformat": 4,
 "nbformat_minor": 5
}
