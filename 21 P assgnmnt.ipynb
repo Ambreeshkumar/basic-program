{
 "cells": [
  {
   "cell_type": "code",
   "execution_count": null,
   "id": "a619af5c",
   "metadata": {},
   "outputs": [],
   "source": [
    "Question1\n",
    "Write a function that takes a list and a number as arguments. Add the number to the end of\n",
    "the list, then remove the first element of the list. The function should then return the updated\n",
    "list."
   ]
  },
  {
   "cell_type": "code",
   "execution_count": 21,
   "id": "3401cedd",
   "metadata": {},
   "outputs": [
    {
     "name": "stdout",
     "output_type": "stream",
     "text": [
      "[1, 4, 3, 6, 5, 4, 77, 33, 77, 77]\n"
     ]
    }
   ],
   "source": [
    "# this proble solve with append and list slising method:\n",
    "def new_value(list,new):\n",
    "    list1 = []\n",
    "    list[-1]=new\n",
    "    for i in (list):\n",
    "        list1.append(i)\n",
    "    print(list1)\n",
    "\n",
    "list = [1, 4, 3, 6, 5, 4, 77, 33, 77, 8]\n",
    "new =77\n",
    "new_value(list,new)\n",
    "\n",
    "    "
   ]
  },
  {
   "cell_type": "code",
   "execution_count": 18,
   "id": "0d692f0f",
   "metadata": {},
   "outputs": [
    {
     "name": "stdout",
     "output_type": "stream",
     "text": [
      "[1, 4, 3, 6, 5, 4, 77, 33, 77, 22]\n"
     ]
    }
   ],
   "source": [
    "# this proble solve by list slising:\n",
    "\n",
    "def new_value(list,new):\n",
    "    list[-1]=new\n",
    "    print(list)\n",
    "\n",
    "list = [1,4,3,6,5,4,77,33,77,9]\n",
    "new=22\n",
    "new_value(list,new)\n",
    "\n"
   ]
  },
  {
   "cell_type": "code",
   "execution_count": null,
   "id": "eeb23c02",
   "metadata": {},
   "outputs": [],
   "source": [
    "Question2\n",
    "Create the function that takes a list of dictionaries and returns the sum of people&#39;s budgets.\n"
   ]
  },
  {
   "cell_type": "code",
   "execution_count": 22,
   "id": "848791ac",
   "metadata": {},
   "outputs": [
    {
     "name": "stdout",
     "output_type": "stream",
     "text": [
      "[{'name': 'john', 'age': 21, 'budget': 2300}, {'name': 'steve', 'age': 32, 'budget': 4000}, {'name': 'matrin', 'agr': 16, 'budget': 2700}]\n"
     ]
    }
   ],
   "source": [
    "dict = [{\"name\":\"john\",\"age\":21,\"budget\":2300},\n",
    "       {\"name\":\"steve\",\"age\":32,\"budget\":4000},\n",
    "       {\"name\":\"matrin\",\"agr\":16,\"budget\":2700}]\n",
    "print(dict)"
   ]
  },
  {
   "cell_type": "code",
   "execution_count": 43,
   "id": "3c050500",
   "metadata": {},
   "outputs": [],
   "source": [
    "d = [{\"name\":\"john\",\"age\":21,\"budget\":2300},\n",
    "       {\"name\":\"steve\",\"age\":32,\"budget\":4000},\n",
    "       {\"name\":\"matrin\",\"agr\":16,\"budget\":2700}]\n",
    "\n",
    "for i in (d):\n",
    "    for j in(i):\n",
    "        if (i==\"budget\"):\n",
    "            print(i[j])\n",
    "    \n",
    "            \n",
    "    "
   ]
  },
  {
   "cell_type": "code",
   "execution_count": 49,
   "id": "25b2e2af",
   "metadata": {},
   "outputs": [
    {
     "name": "stdout",
     "output_type": "stream",
     "text": [
      "1\n",
      "2\n",
      "3\n",
      "6\n"
     ]
    }
   ],
   "source": [
    "list = [{'a':1,\"b\":2,\"c\":3,\"d\":6}]\n",
    "sum = 0\n",
    "for i in(list):\n",
    "    for j in(i):\n",
    "        print(i[j])\n",
    "        "
   ]
  },
  {
   "cell_type": "code",
   "execution_count": 53,
   "id": "c7d55341",
   "metadata": {},
   "outputs": [
    {
     "name": "stdout",
     "output_type": "stream",
     "text": [
      "2\n"
     ]
    }
   ],
   "source": [
    "list = {'a':1,\"b\":2,\"c\":3,\"d\":6,\"c\":8}\n",
    "for i in list:\n",
    "    if (i==\"b\"):\n",
    "        print(list[i])"
   ]
  },
  {
   "cell_type": "code",
   "execution_count": null,
   "id": "e936cc7a",
   "metadata": {},
   "outputs": [],
   "source": [
    "Question3\n",
    "Create a function that takes a string and returns a string with its letters in alphabetical order."
   ]
  },
  {
   "cell_type": "code",
   "execution_count": 2,
   "id": "51a2b2dc",
   "metadata": {},
   "outputs": [
    {
     "name": "stdout",
     "output_type": "stream",
     "text": [
      "enter the stringambreesh\n",
      "abeehmrs\n",
      "['a', 'b', 'e', 'e', 'h', 'm', 'r', 's']\n"
     ]
    }
   ],
   "source": [
    "str = input(\"enter the string\")\n",
    "sorted_characters = sorted(str)\n",
    "str = \"\".join(sorted_characters)\n",
    "print(str)\n"
   ]
  },
  {
   "cell_type": "code",
   "execution_count": null,
   "id": "84a89a15",
   "metadata": {},
   "outputs": [],
   "source": [
    "Question4\n",
    "\n",
    "Suppose that you invest $10,000 for 10 years at an interest rate of 6% compounded monthly.\n",
    "What will be the value of your investment at the end of the 10 year period?\n",
    "Create a function that accepts the principal p, the term in years t, the interest rate r, and the\n",
    "number of compounding periods per year n. The function returns the value at the end of term\n",
    "rounded to the nearest cent."
   ]
  },
  {
   "cell_type": "code",
   "execution_count": 7,
   "id": "ce91f9b7",
   "metadata": {},
   "outputs": [
    {
     "name": "stdout",
     "output_type": "stream",
     "text": [
      "enter the principal10000\n",
      "enter the year10\n",
      "enter the rate of intaretst6\n",
      "18193.9673403229\n"
     ]
    }
   ],
   "source": [
    "def compound_interest(P,Y,R,M):\n",
    "    A = P*(1+(R/100)/M)**(Y*M)\n",
    "    print(A)\n",
    "    \n",
    "P = int(input(\"enter the principal\"))\n",
    "Y = int(input(\"enter the year\"))\n",
    "R = int(input(\"enter the rate of intaretst\"))\n",
    "M = 12\n",
    "compound_interest(P,Y,R,M)"
   ]
  },
  {
   "cell_type": "code",
   "execution_count": null,
   "id": "839407bc",
   "metadata": {},
   "outputs": [],
   "source": [
    "Question5\n",
    "Write a function that takes a list of elements and returns only the integers."
   ]
  },
  {
   "cell_type": "code",
   "execution_count": 9,
   "id": "e71b42e5",
   "metadata": {},
   "outputs": [
    {
     "data": {
      "text/plain": [
       "[9, 2, 16]"
      ]
     },
     "execution_count": 9,
     "metadata": {},
     "output_type": "execute_result"
    }
   ],
   "source": [
    "def return_only_int(list):\n",
    "    empty_list = []\n",
    "    for i in list:\n",
    "        if (type(i)==int):\n",
    "            empty_list.append(i)\n",
    "    return empty_list\n",
    "    \n",
    "\n",
    "list =[9, 2, \"space\", \"car\", \"lion\", 16]\n",
    "return_only_int(list)"
   ]
  }
 ],
 "metadata": {
  "kernelspec": {
   "display_name": "Python 3",
   "language": "python",
   "name": "python3"
  },
  "language_info": {
   "codemirror_mode": {
    "name": "ipython",
    "version": 3
   },
   "file_extension": ".py",
   "mimetype": "text/x-python",
   "name": "python",
   "nbconvert_exporter": "python",
   "pygments_lexer": "ipython3",
   "version": "3.8.8"
  }
 },
 "nbformat": 4,
 "nbformat_minor": 5
}
