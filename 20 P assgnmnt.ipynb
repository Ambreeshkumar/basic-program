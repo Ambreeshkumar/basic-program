{
 "cells": [
  {
   "cell_type": "code",
   "execution_count": null,
   "id": "128d8082",
   "metadata": {},
   "outputs": [],
   "source": [
    "Question1\n",
    "\n",
    "Create a function that takes a list of strings and integers, and filters out the list so that it\n",
    "returns a list of integers only."
   ]
  },
  {
   "cell_type": "code",
   "execution_count": 17,
   "id": "75bf0be1",
   "metadata": {},
   "outputs": [
    {
     "data": {
      "text/plain": [
       "[1, 3, 2, 5, 4]"
      ]
     },
     "execution_count": 17,
     "metadata": {},
     "output_type": "execute_result"
    }
   ],
   "source": [
    "def filter_list(str):\n",
    "    list = []\n",
    "    for i in (str):\n",
    "        if type(i) == (int):\n",
    "            list.append(i)\n",
    "    return list\n",
    "\n",
    "str = [1,3,2,'amnr',5,'s','gdg',4]\n",
    "filter_list(str)\n",
    "    "
   ]
  },
  {
   "cell_type": "code",
   "execution_count": null,
   "id": "01049820",
   "metadata": {},
   "outputs": [],
   "source": [
    "Question2\n",
    "\n",
    "Given a list of numbers, create a function which returns the list but with each element's\n",
    "index in the list added to itself. This means you add 0 to the number at index 0, add 1 to the\n",
    "number at index 1, etc..."
   ]
  },
  {
   "cell_type": "code",
   "execution_count": null,
   "id": "baa1f21a",
   "metadata": {},
   "outputs": [],
   "source": [
    "Question3\n",
    "Create a function that takes the height and radius of a cone as arguments and returns the\n",
    "volume of the cone rounded to the nearest hundredth. See the resources tab for the formula.\n"
   ]
  },
  {
   "cell_type": "code",
   "execution_count": 5,
   "id": "ba5f2f21",
   "metadata": {},
   "outputs": [
    {
     "data": {
      "text/plain": [
       "12.568"
      ]
     },
     "execution_count": 5,
     "metadata": {},
     "output_type": "execute_result"
    }
   ],
   "source": [
    "# formulta of volume of cone:\n",
    "\n",
    "# V = pi*h/3*(r**2)\n",
    "\n",
    "def cone_volume(h,r):\n",
    "    pi = 3.142\n",
    "    V = pi*(r**2)*(h/3)\n",
    "    return V\n",
    "\n",
    "cone_volume(3,2)"
   ]
  },
  {
   "cell_type": "code",
   "execution_count": null,
   "id": "9dc0b37d",
   "metadata": {},
   "outputs": [],
   "source": [
    "Question4\n",
    "This Triangular Number Sequence is generated from a pattern of dots that form a triangle.\n",
    "The first 5 numbers of the sequence, or dots, are:\n",
    "1, 3, 6, 10, 15\n",
    "This means that the first triangle has just one dot, the second one has three dots, the third one\n",
    "has 6 dots and so on.\n",
    "Write a function that gives the number of dots with its corresponding triangle number of the\n",
    "sequence.\n",
    "\n"
   ]
  },
  {
   "cell_type": "code",
   "execution_count": 8,
   "id": "765b85a7",
   "metadata": {},
   "outputs": [
    {
     "data": {
      "text/plain": [
       "23220"
      ]
     },
     "execution_count": 8,
     "metadata": {},
     "output_type": "execute_result"
    }
   ],
   "source": [
    "def triangle(num):\n",
    "    sum =0\n",
    "    for i in range(1,num+1):\n",
    "        sum = sum+i\n",
    "    return sum\n",
    "\n",
    "triangle(215)\n"
   ]
  },
  {
   "cell_type": "code",
   "execution_count": null,
   "id": "f06380ba",
   "metadata": {},
   "outputs": [],
   "source": [
    "Question5\n",
    "Create a function that takes a list of numbers between 1 and 10 (excluding one number) and\n",
    "returns the missing number."
   ]
  },
  {
   "cell_type": "code",
   "execution_count": 2,
   "id": "a6a0dbd5",
   "metadata": {},
   "outputs": [
    {
     "name": "stdout",
     "output_type": "stream",
     "text": [
      "[6, 8]\n"
     ]
    }
   ],
   "source": [
    "def missing_num(arr):\n",
    "    missing_elements = []\n",
    "    for ele in range(arr[0], arr[-1]+1):\n",
    "        if ele not in arr:\n",
    "            missing_elements.append(ele)\n",
    "    print(missing_elements)\n",
    "arr = [1,2,3,4,5,7,9,10]\n",
    "missing_num(arr)\n"
   ]
  }
 ],
 "metadata": {
  "kernelspec": {
   "display_name": "Python 3",
   "language": "python",
   "name": "python3"
  },
  "language_info": {
   "codemirror_mode": {
    "name": "ipython",
    "version": 3
   },
   "file_extension": ".py",
   "mimetype": "text/x-python",
   "name": "python",
   "nbconvert_exporter": "python",
   "pygments_lexer": "ipython3",
   "version": "3.8.8"
  }
 },
 "nbformat": 4,
 "nbformat_minor": 5
}
