{
 "cells": [
  {
   "cell_type": "code",
   "execution_count": null,
   "id": "87e5cda7",
   "metadata": {},
   "outputs": [],
   "source": [
    "Q1. Write a Python Program to Find the Factorial of a Number?\n"
   ]
  },
  {
   "cell_type": "code",
   "execution_count": 11,
   "id": "d2e34535",
   "metadata": {},
   "outputs": [
    {
     "name": "stdout",
     "output_type": "stream",
     "text": [
      "factorial =  24\n"
     ]
    }
   ],
   "source": [
    "# this code to demonstrate the factorial \n",
    "def fct(num):\n",
    "    fac = 1\n",
    "    for i in range(1,num+1):\n",
    "        fac = fac*i\n",
    "    \n",
    "    print(\"factorial = \",fac)\n",
    "    \n",
    "fct(4)"
   ]
  },
  {
   "cell_type": "code",
   "execution_count": null,
   "id": "d5779a3a",
   "metadata": {},
   "outputs": [],
   "source": [
    "Q2. Write a Python Program to Display the multiplication Table?\n"
   ]
  },
  {
   "cell_type": "code",
   "execution_count": 16,
   "id": "d31679e4",
   "metadata": {},
   "outputs": [
    {
     "name": "stdout",
     "output_type": "stream",
     "text": [
      "enter the numner to print table 999\n",
      "999 * 1 = 999\n",
      "999 * 2 = 1998\n",
      "999 * 3 = 2997\n",
      "999 * 4 = 3996\n",
      "999 * 5 = 4995\n",
      "999 * 6 = 5994\n",
      "999 * 7 = 6993\n",
      "999 * 8 = 7992\n",
      "999 * 9 = 8991\n",
      "999 * 10 = 9990\n"
     ]
    }
   ],
   "source": [
    "# this code to display the multiplication Table.\n",
    "\n",
    "num = int(input(\"enter the numner to print table \"))\n",
    "for i in range(1,10+1):\n",
    "    result = num*i\n",
    "    print(num, \"*\" ,i ,\"=\", result )"
   ]
  },
  {
   "cell_type": "code",
   "execution_count": null,
   "id": "0704ff7e",
   "metadata": {},
   "outputs": [],
   "source": [
    "Q3. Write a Python Program to Print the Fibonacci sequence?\n"
   ]
  },
  {
   "cell_type": "code",
   "execution_count": 19,
   "id": "84e2d1e2",
   "metadata": {},
   "outputs": [
    {
     "name": "stdout",
     "output_type": "stream",
     "text": [
      "enter the number7\n",
      "1\n",
      "3\n",
      "6\n",
      "10\n",
      "15\n",
      "21\n",
      "28\n"
     ]
    }
   ],
   "source": [
    "num = int(input(\"enter the number\"))\n",
    "sum = 0\n",
    "for i in range(1,num+1):\n",
    "    sum = sum+i\n",
    "    print(sum)"
   ]
  },
  {
   "cell_type": "code",
   "execution_count": 3,
   "id": "8a3abf0d",
   "metadata": {},
   "outputs": [
    {
     "name": "stdout",
     "output_type": "stream",
     "text": [
      "enter the number4\n",
      "fibonacci sequance:\n",
      "0\n",
      "1\n",
      "1\n",
      "2\n",
      "3\n"
     ]
    }
   ],
   "source": [
    "num = int(input(\"enter the number\"))\n",
    "n1 = 0\n",
    "n2 = 1\n",
    "count = 0\n",
    "if num <=0:\n",
    "    print(\"please enter the positive number\")\n",
    "elif num == 1:\n",
    "    print(\"fibonacci sequence upto\",num)\n",
    "    print(n1)\n",
    "else:\n",
    "    print(\"fibonacci sequance:\")\n",
    "    for i in range(0,num+1):\n",
    "        print(n1)\n",
    "        nth = n1 +n2\n",
    "        n1 = n2\n",
    "        n2 = nth\n",
    "        count +=1\n",
    "    "
   ]
  },
  {
   "cell_type": "code",
   "execution_count": null,
   "id": "df40204c",
   "metadata": {},
   "outputs": [],
   "source": [
    "Q4. Write a Python Program to Check Armstrong Number?\n"
   ]
  },
  {
   "cell_type": "code",
   "execution_count": 3,
   "id": "b487c010",
   "metadata": {},
   "outputs": [
    {
     "name": "stdout",
     "output_type": "stream",
     "text": [
      "enter the number to check the armstrong number153\n",
      "number is armstrong\n"
     ]
    }
   ],
   "source": [
    "num = int(input(\"enter the number to check the armstrong number\"))\n",
    "org = num\n",
    "sum = 0\n",
    "for i in range(0,num):\n",
    "    sum = sum+(num%10)*(num%10)*(num%10)\n",
    "    num = num//10\n",
    "if org == sum:\n",
    "    print(\"number is armstrong\")\n",
    "else:\n",
    "    print(\"number is not armstrong\")"
   ]
  },
  {
   "cell_type": "code",
   "execution_count": null,
   "id": "9050db1e",
   "metadata": {},
   "outputs": [],
   "source": [
    "Q5. Write a Python Program to Find Armstrong Number in an Interval?\n"
   ]
  },
  {
   "cell_type": "code",
   "execution_count": 4,
   "id": "485c8a5c",
   "metadata": {},
   "outputs": [
    {
     "name": "stdout",
     "output_type": "stream",
     "text": [
      "enter the number75\n",
      "not Armstrong number\n"
     ]
    }
   ],
   "source": [
    "n = int(input(\"enter the number\"))\n",
    "i = n\n",
    "count = 0\n",
    "while(i>0):\n",
    "    count = count+1\n",
    "    i = i//10\n",
    "sum = 0\n",
    "i = n\n",
    "while(i>0):\n",
    "    digit = i % 10\n",
    "    x = 1\n",
    "    pro = 1\n",
    "    while(x<=count):\n",
    "        pro = pro*digit\n",
    "        x = x+1\n",
    "    sum = sum+pro\n",
    "    i = i//10\n",
    "if(sum == n):\n",
    "    print(\"Armstrong number\")\n",
    "else:\n",
    "    print(\"not Armstrong number\")"
   ]
  },
  {
   "cell_type": "code",
   "execution_count": null,
   "id": "2794eccd",
   "metadata": {},
   "outputs": [],
   "source": [
    "Q6. Write a Python Program to Find the Sum of Natural Numbers?\n"
   ]
  },
  {
   "cell_type": "code",
   "execution_count": 7,
   "id": "92c63621",
   "metadata": {},
   "outputs": [
    {
     "name": "stdout",
     "output_type": "stream",
     "text": [
      "enter the first number1\n",
      "enter the Last number10\n",
      "sum of natural number 45\n"
     ]
    }
   ],
   "source": [
    "this code to sum of natural nu,b\n",
    "first_num = int(input(\"enter the first number\"))\n",
    "last_num = int(input(\"enter the Last number\"))\n",
    "sum = 0\n",
    "for i in range(first_num,last_num):\n",
    "    sum = sum+i\n",
    "print(\"sum of natural number\",sum)"
   ]
  }
 ],
 "metadata": {
  "kernelspec": {
   "display_name": "Python 3",
   "language": "python",
   "name": "python3"
  },
  "language_info": {
   "codemirror_mode": {
    "name": "ipython",
    "version": 3
   },
   "file_extension": ".py",
   "mimetype": "text/x-python",
   "name": "python",
   "nbconvert_exporter": "python",
   "pygments_lexer": "ipython3",
   "version": "3.8.8"
  }
 },
 "nbformat": 4,
 "nbformat_minor": 5
}
