{
 "cells": [
  {
   "cell_type": "code",
   "execution_count": null,
   "id": "f3c60e68",
   "metadata": {},
   "outputs": [],
   "source": [
    "Q1. What is the meaning of multiple inheritance?\n",
    "\n",
    "Answer. \n",
    "Inheritance : Inheritance allows us to define a class that inherits all the methods \n",
    "and properties from another class. The Parent class is the class being inherited from, \n",
    "also called base class. The Child class is the class that inherits from another class, \n",
    "also called derived class.\n",
    "\n",
    "\n",
    "Types of Inheritance:\n",
    "\n",
    "Single Inheritance\n",
    "Multi-level Inheritance\n",
    "Multiple Inheritance\n",
    "Multipath Inheritance\n",
    "Hierarchical Inheritance\n",
    "Hybrid Inheritance\n",
    "\n",
    "Multiple Inheritance : Multiple inheritance is a feature of some object-oriented computer \n",
    "programming languages in which an object or class can inherit characteristics and features \n",
    "from more than one parent object or the parent class\n",
    "\n",
    "Syntax of Multiple Inheritance :\n",
    "\n",
    "Class Base1: Body of the class\n",
    "\n",
    "Class Base2: Body of the class\n",
    "\n",
    "Class Derived(Base1, Base2): Body of the class\n",
    "\n"
   ]
  },
  {
   "cell_type": "code",
   "execution_count": 1,
   "id": "2eed13f3",
   "metadata": {},
   "outputs": [
    {
     "name": "stdout",
     "output_type": "stream",
     "text": [
      "Father Enjoys Driving\n",
      "Mother Enjoys Cooking\n",
      "Child Loves Playing\n"
     ]
    }
   ],
   "source": [
    "# Multiple Inheritance using two classes:\n",
    "\n",
    "class Father():\n",
    "    def Driving(self):\n",
    "        print(\"Father Enjoys Driving\")\n",
    "class Mother():\n",
    "    def Cooking(self):\n",
    "        print(\"Mother Enjoys Cooking\")\n",
    "class Child(Father, Mother):\n",
    "    def Playing(self):\n",
    "        print(\"Child Loves Playing\")\n",
    "c = Child()\n",
    "c.Driving()\n",
    "c.Cooking()\n",
    "c.Playing()"
   ]
  },
  {
   "cell_type": "code",
   "execution_count": null,
   "id": "4b32b1bb",
   "metadata": {},
   "outputs": [],
   "source": [
    "here the farther and mother are base classes when we have two class statement\n",
    "and a child class that contains all the method of the father and mother\n",
    "class.\n",
    "The child class is also known as derived class\n",
    "we are createinh the object for the child class throuht which we \n",
    "can acces the function of father, mother and child.\n"
   ]
  },
  {
   "cell_type": "code",
   "execution_count": null,
   "id": "81775e59",
   "metadata": {},
   "outputs": [],
   "source": [
    "Q2. What is the concept of delegation?\n",
    "\n",
    "Answer.\n",
    "What is delegation?\n",
    "\n",
    "Delegation is an object oriented technique (also called a design pattern). Let's say you have an object x and want to \n",
    "change the behaviour of just one of its methods. You can create a new class that provides a new implementation of the \n",
    "method you're interested in changing and delegates all other methods to the corresponding method of x.\n",
    "\n",
    "Python programmers can easily implement delegation. For example, the following class implements a class that behaves \n",
    "like a file but converts all written data to uppercase:\n",
    "\n",
    "class UpperOut:\n",
    "def __init__(self, outfile):\n",
    "self.__outfile = outfile\n",
    "def write(self, s):\n",
    "self.__outfile.write(s.upper())\n",
    "def __getattr__(self, name):\n",
    "return getattr(self.__outfile, name)\n",
    "\n",
    "\n",
    "Here the UpperOut class redefines the write() method to convert the argument string to uppercase before calling the \n",
    "underlying self.__outfile.write() method. All other methods are delegated to the underlying self.__outfile object. \n",
    "The delegation is accomplished via the __getattr__ method; consult the language reference for more information about \n",
    "controlling attribute access.\n",
    "\n",
    "Note that for more general cases delegation can get trickier. When attributes must be set as well as retrieved,\n",
    "the class must define a __settattr__ method too, and it must do so carefully.he basic implementation\n",
    "of __setattr__ is roughly equivalent to the following:\n",
    "\n",
    "of __setattr__ is roughly equivalent to the following:\n",
    "    \n",
    "\n",
    "    \n",
    "class X:\n",
    "...\n",
    "def __setattr__(self, name, value):\n",
    "self.__dict__[name] = value\n",
    "...\n",
    "\n",
    "Most __setattr__ implementations must modify self.__dict__ to store local state for self without causing an \n",
    "infinite recursion.\n",
    "    "
   ]
  },
  {
   "cell_type": "code",
   "execution_count": null,
   "id": "dd799766",
   "metadata": {},
   "outputs": [],
   "source": [
    "Q3. What is the concept of composition?\n",
    "\n",
    "Answer.\n",
    "It is one of the fundamental concepts of Object-Oriented Programming. In this concept, we will describe a \n",
    "class that references to one or more objects of other classes as an Instance variable. Here, by using the \n",
    "class name or by creating the object we can access the members of one class inside another class. \n",
    "It enables creating complex types by combining objects of different classes. It means that a class Composite \n",
    "can contain an object of another class Component. This type of relationship is known as Has-A Relation.\n",
    "\n"
   ]
  },
  {
   "cell_type": "code",
   "execution_count": 4,
   "id": "ac50ebdc",
   "metadata": {},
   "outputs": [
    {
     "name": "stdout",
     "output_type": "stream",
     "text": [
      "Component class object created...\n",
      "Composite class object also created...\n",
      "Composite class m2() method executed...\n",
      "Component class m1() method executed...\n"
     ]
    }
   ],
   "source": [
    "class Component:\n",
    "  \n",
    "   # composite class constructor\n",
    "    def __init__(self):\n",
    "        print('Component class object created...')\n",
    "  \n",
    "    # composite class instance method\n",
    "    def m1(self):\n",
    "        print('Component class m1() method executed...')\n",
    "  \n",
    "  \n",
    "class Composite:\n",
    "  \n",
    "    # composite class constructor\n",
    "    def __init__(self):\n",
    "        # creating object of component class\n",
    "        self.obj1 = Component()\n",
    "          \n",
    "        print('Composite class object also created...')\n",
    "  \n",
    "     # composite class instance method\n",
    "    def m2(self):\n",
    "        \n",
    "        print('Composite class m2() method executed...')\n",
    "  \n",
    "        # calling m1() method of component class\n",
    "        self.obj1.m1()\n",
    "# creating object of composite class\n",
    "obj2 = Composite()\n",
    "  \n",
    "# calling m2() method of composite class\n",
    "obj2.m2()\n"
   ]
  },
  {
   "cell_type": "code",
   "execution_count": null,
   "id": "3477c400",
   "metadata": {},
   "outputs": [],
   "source": [
    "Q4. What are bound methods and how do we use them?\n",
    "\n",
    "Answer.\n",
    "A bound method is the one which is dependent on the instance of the class as the first argument. \n",
    "It passes the instance as the first argument which is used to access the variables and functions. \n",
    "In Python 3 and newer versions of python, all functions in the class are by default bound methods.\n",
    "\n"
   ]
  },
  {
   "cell_type": "code",
   "execution_count": 1,
   "id": "9e5c5cae",
   "metadata": {},
   "outputs": [
    {
     "name": "stdout",
     "output_type": "stream",
     "text": [
      "<bound method A.func of <__main__.A object at 0x000002F0F4F2F880>>\n"
     ]
    }
   ],
   "source": [
    "# Python code to demonstrate\n",
    "# use of bound methods\n",
    "  \n",
    "class A:\n",
    "  \n",
    "    def func(self, arg):\n",
    "        self.arg = arg\n",
    "        print(\"Value of arg = \", arg)\n",
    "  \n",
    "  \n",
    "# Creating an instance\n",
    "obj = A()  \n",
    "  \n",
    "# bound method\n",
    "print(obj.func)"
   ]
  },
  {
   "cell_type": "code",
   "execution_count": null,
   "id": "2652991f",
   "metadata": {},
   "outputs": [],
   "source": [
    "he instance obj is automatically passed as the first argument to the function called and hence the first parameter \n",
    "of the function will be used to access the variables/functions of the object."
   ]
  },
  {
   "cell_type": "code",
   "execution_count": null,
   "id": "13d22c41",
   "metadata": {},
   "outputs": [],
   "source": [
    "Q5. What is the purpose of pseudoprivate attributes?\n",
    "\n",
    "Answer.\n",
    "This is sometimes misleadingly called private attributes really, it's just a way to localize a \n",
    "name to the class that created it, and does not prevent access by code outside the class. \n",
    "That is, this feature is mostly intended to avoid namespace collisions in instances, \n",
    "not to restrict access to names in general.\n",
    "\n",
    "Pseudo-private names are an advanced feature, entirely optional, and probably won't be very \n",
    "useful until you start writing large class hierarchies in multi-programmer projects. \n",
    "But because you may see this feature in other people's code, you need to be somewhat aware of \n",
    "it even if you don't use it in your own\n",
    "\n",
    "The problem that the pseudo-private attribute feature is meant to alleviate has to do with the \n",
    "way instance attributes are stored. In Python, all instance attributes wind up in the single \n",
    "instance object at the bottom of the class tree. This is very different from the C++ model, \n",
    "where each class gets its own space for data members it defines.\n",
    "\n",
    "\n",
    "\n"
   ]
  }
 ],
 "metadata": {
  "kernelspec": {
   "display_name": "Python 3",
   "language": "python",
   "name": "python3"
  },
  "language_info": {
   "codemirror_mode": {
    "name": "ipython",
    "version": 3
   },
   "file_extension": ".py",
   "mimetype": "text/x-python",
   "name": "python",
   "nbconvert_exporter": "python",
   "pygments_lexer": "ipython3",
   "version": "3.8.8"
  }
 },
 "nbformat": 4,
 "nbformat_minor": 5
}
