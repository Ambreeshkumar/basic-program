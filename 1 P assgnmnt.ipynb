{
 "cells": [
  {
   "cell_type": "code",
   "execution_count": null,
   "id": "59be5f28",
   "metadata": {},
   "outputs": [],
   "source": [
    "Q1. Write a Python program to print &quot;Hello Python&quot;?\n",
    "\n"
   ]
  },
  {
   "cell_type": "code",
   "execution_count": 1,
   "id": "ec6e9dcd",
   "metadata": {},
   "outputs": [
    {
     "name": "stdout",
     "output_type": "stream",
     "text": [
      "hello\n"
     ]
    }
   ],
   "source": [
    "# thos code for print the \"hello\"\n",
    "\n",
    "print('hello')"
   ]
  },
  {
   "cell_type": "code",
   "execution_count": null,
   "id": "4d91a7c4",
   "metadata": {},
   "outputs": [],
   "source": [
    "Q2. Write a Python program to do arithmetical operations addition and division.?\n",
    "\n"
   ]
  },
  {
   "cell_type": "code",
   "execution_count": 3,
   "id": "4a1c3d84",
   "metadata": {},
   "outputs": [
    {
     "name": "stdout",
     "output_type": "stream",
     "text": [
      " enter the first number8\n",
      "enter the second number2\n",
      "sddition of the two number =  10\n",
      "a divide by b =  4.0\n"
     ]
    }
   ],
   "source": [
    "a = int(input(\" enter the first number\"))\n",
    "b = int(input(\"enter the second number\"))\n",
    "c = a+b\n",
    "print(\"sddition of the two number = \",c)\n",
    "\n",
    "d = a/b\n",
    "print(\"a divide by b = \",d)"
   ]
  },
  {
   "cell_type": "code",
   "execution_count": null,
   "id": "cb8427e6",
   "metadata": {},
   "outputs": [],
   "source": [
    "Q3. Write a Python program to find the area of a triangle?\n",
    "\n"
   ]
  },
  {
   "cell_type": "code",
   "execution_count": 3,
   "id": "975a53a4",
   "metadata": {},
   "outputs": [
    {
     "name": "stdout",
     "output_type": "stream",
     "text": [
      "enter the base value of triangle203\n",
      "enter the height value of triangle137\n",
      "Area of triangle =  13905.5\n"
     ]
    }
   ],
   "source": [
    "# formula of area of triangle is Area =  1/2 bh\n",
    "# b is base of triangle and h is height of triangle\n",
    "\n",
    "# take input values of triangle by user.\n",
    "\n",
    "b = int(input(\"enter the base value of triangle\"))\n",
    "h = int(input(\"enter the height value of triangle\"))\n",
    "\n",
    "# formula of triangle\n",
    "area = (b*h)/2\n",
    "print(\"Area of triangle = \",area)"
   ]
  },
  {
   "cell_type": "code",
   "execution_count": null,
   "id": "1a24ba2f",
   "metadata": {},
   "outputs": [],
   "source": [
    "Q4. Write a Python program to swap two variables?\n"
   ]
  },
  {
   "cell_type": "code",
   "execution_count": 10,
   "id": "6d67c3bd",
   "metadata": {},
   "outputs": [
    {
     "name": "stdout",
     "output_type": "stream",
     "text": [
      "enter the first number8\n",
      "enter the second number3\n",
      "after wsapping:\n",
      "value of a =  3\n",
      "value of b =  8\n"
     ]
    }
   ],
   "source": [
    "# this code to swap the two variables.\n",
    "# take the input by user.\n",
    "a = int(input(\"enter the first number\"))\n",
    "b = int(input(\"enter the second number\"))\n",
    "\n",
    "# here tem is not a keyword,it's a variable.\n",
    "# this variable can be anything over here\n",
    "\n",
    "tem = a\n",
    "a = b\n",
    "b= tem\n",
    "print(\"after wsapping:\")\n",
    "print(\"value of a = \",a)\n",
    "print(\"value of b = \",b)"
   ]
  },
  {
   "cell_type": "code",
   "execution_count": null,
   "id": "794fd0a3",
   "metadata": {},
   "outputs": [],
   "source": [
    "Q5. Write a Python program to generate a random number?\n"
   ]
  },
  {
   "cell_type": "code",
   "execution_count": 14,
   "id": "02b92f86",
   "metadata": {},
   "outputs": [
    {
     "name": "stdout",
     "output_type": "stream",
     "text": [
      "0.35456941064142267\n"
     ]
    }
   ],
   "source": [
    "# here i am useing random function of random  module.\n",
    "\n",
    "# import the random module.\n",
    "\n",
    "import random\n",
    "num = random.random()\n",
    "print(\"here we can see the random number\".num)\n",
    "\n"
   ]
  }
 ],
 "metadata": {
  "kernelspec": {
   "display_name": "Python 3",
   "language": "python",
   "name": "python3"
  },
  "language_info": {
   "codemirror_mode": {
    "name": "ipython",
    "version": 3
   },
   "file_extension": ".py",
   "mimetype": "text/x-python",
   "name": "python",
   "nbconvert_exporter": "python",
   "pygments_lexer": "ipython3",
   "version": "3.8.8"
  }
 },
 "nbformat": 4,
 "nbformat_minor": 5
}
