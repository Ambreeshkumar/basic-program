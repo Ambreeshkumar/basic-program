{
 "cells": [
  {
   "cell_type": "code",
   "execution_count": null,
   "id": "24078393",
   "metadata": {},
   "outputs": [],
   "source": [
    "Q1. Write a Python program to convert kilometers to miles?\n"
   ]
  },
  {
   "cell_type": "code",
   "execution_count": null,
   "id": "cb09afb7",
   "metadata": {},
   "outputs": [],
   "source": [
    "1 = 1.609"
   ]
  },
  {
   "cell_type": "code",
   "execution_count": 7,
   "id": "429c5e3a",
   "metadata": {},
   "outputs": [
    {
     "name": "stdout",
     "output_type": "stream",
     "text": [
      "enter the number in km9\n",
      "kilometre canvert into miles 14.481\n",
      "enter the number in mile8\n",
      "miles canvert into kilometer 4.9720323182100685 kilomertr\n"
     ]
    }
   ],
   "source": [
    "# this code convert kilometer into miles.\n",
    "# 1  mile is equale to  1.609 kilometer.\n",
    "\n",
    "# This input is to be taken by the user in mile\n",
    "# and converting into kilometer.\n",
    "km = int(input(\"enter the number in km\"))\n",
    "num = km*1.609\n",
    "print(\"kilometre canvert into miles\",num)\n",
    "\n",
    "# this input is to be taken by  the user in likometer\n",
    "# and convert into mile.\n",
    "mile = int(input(\"enter the number in mile\"))\n",
    "num = mile/1.609\n",
    "print(\"miles canvert into kilometer\",num)"
   ]
  },
  {
   "cell_type": "code",
   "execution_count": null,
   "id": "3d16f650",
   "metadata": {},
   "outputs": [],
   "source": [
    "Q2. Write a Python program to convert Celsius to Fahrenheit?\n"
   ]
  },
  {
   "cell_type": "code",
   "execution_count": 13,
   "id": "9facdb86",
   "metadata": {},
   "outputs": [
    {
     "name": "stdout",
     "output_type": "stream",
     "text": [
      "enter the Temperature in celsius9\n",
      "celsius canvert into fahrenheit 48.2 F\n"
     ]
    }
   ],
   "source": [
    "# this code for convert celsius into fahrenheit.\n",
    "# it's a formula of canvert celsius into fehrenheit  F = (c*9/5)+32\n",
    "\n",
    "# take the input by user in celsius.\n",
    "\n",
    "cl = float(input(\"enter the Temperature in celsius\"))\n",
    "f = (cl*9/5)+32\n",
    "print(\"celsius canvert into fahrenheit\",f,\"F\")"
   ]
  },
  {
   "cell_type": "code",
   "execution_count": null,
   "id": "b6d11c6f",
   "metadata": {},
   "outputs": [],
   "source": [
    "Q3. Write a Python program to display calendar?\n"
   ]
  },
  {
   "cell_type": "code",
   "execution_count": 18,
   "id": "c09f91b5",
   "metadata": {},
   "outputs": [
    {
     "name": "stdout",
     "output_type": "stream",
     "text": [
      "    January 2022\n",
      "Mo Tu We Th Fr Sa Su\n",
      "                1  2\n",
      " 3  4  5  6  7  8  9\n",
      "10 11 12 13 14 15 16\n",
      "17 18 19 20 21 22 23\n",
      "24 25 26 27 28 29 30\n",
      "31\n",
      "\n"
     ]
    }
   ],
   "source": [
    "# import the calendar module it's first step to print the calendar.\n",
    "\n",
    "import calendar\n",
    "\n",
    "# calenar is amodule and month is a function of calendar module.\n",
    "# Here month function has two parameters.\n",
    "# this parameter fill with year 2022 and moth 1 \n",
    "print(calendar.month(2022,1))\n"
   ]
  },
  {
   "cell_type": "code",
   "execution_count": null,
   "id": "c8c6109d",
   "metadata": {},
   "outputs": [],
   "source": [
    "Q4. Write a Python program to solve quadratic equation?\n"
   ]
  },
  {
   "cell_type": "code",
   "execution_count": 31,
   "id": "8759507e",
   "metadata": {},
   "outputs": [
    {
     "name": "stdout",
     "output_type": "stream",
     "text": [
      "enter the value of x^2 cofficiant:1\n",
      "enter the value of x cfficiant1\n",
      "enter the value of constant-42\n",
      "if i use -b in formula so output will be like that 6.0\n",
      "if i use +b in formula so output will be like that -7.0\n"
     ]
    }
   ],
   "source": [
    "# this code solve the quadratic equation.\n",
    "\n",
    "# formula of quadratric equation is -b_+root(b**2  -4 *a*c)/(2a)\n",
    "#  and equation ax^2+bx+c = 0?\n",
    "    \n",
    "a = int(input(\"enter the value of x^2 cofficiant:\"))\n",
    "b = int(input(\"enter the value of x cfficiant\"))\n",
    "c= int(input(\"enter the value of constant\"))\n",
    "\n",
    "\n",
    "# if i use -b in formula \n",
    "x1 = (-b+ (b**2-4*a*c)**0.5)/2*a\n",
    "\n",
    "#if i use +b in formula\n",
    "x2 = (-b- (b**2-4*a*c)**0.5)/2*a\n",
    "\n",
    "\n",
    "print(\"if i use -b in formula so output will be like that\",x1)\n",
    "print(\"if i use +b in formula so output will be like that\",x2)"
   ]
  },
  {
   "cell_type": "code",
   "execution_count": null,
   "id": "7e873c25",
   "metadata": {},
   "outputs": [],
   "source": [
    "Q5. Write a Python program to swap two variables without temp variable?"
   ]
  },
  {
   "cell_type": "code",
   "execution_count": null,
   "id": "8483e547",
   "metadata": {},
   "outputs": [],
   "source": [
    "a = int(input(\"enter the value for a:\"))\n",
    "b = int(input(\"enter the value for b\"))\n",
    "\n",
    "\n",
    "a = a+b\n",
    "b = a-b\n",
    "a= a-b\n",
    "\n",
    "print(\"after swapping:\")\n",
    "print(\"value of a:\",a)\n",
    "print(\"value of b:\",b)\n"
   ]
  }
 ],
 "metadata": {
  "kernelspec": {
   "display_name": "Python 3",
   "language": "python",
   "name": "python3"
  },
  "language_info": {
   "codemirror_mode": {
    "name": "ipython",
    "version": 3
   },
   "file_extension": ".py",
   "mimetype": "text/x-python",
   "name": "python",
   "nbconvert_exporter": "python",
   "pygments_lexer": "ipython3",
   "version": "3.8.8"
  }
 },
 "nbformat": 4,
 "nbformat_minor": 5
}
