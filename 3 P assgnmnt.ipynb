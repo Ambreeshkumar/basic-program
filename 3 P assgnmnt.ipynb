{
 "cells": [
  {
   "cell_type": "code",
   "execution_count": null,
   "id": "b3c75daa",
   "metadata": {},
   "outputs": [],
   "source": [
    "Q1. Write a Python Program to Check if a Number is Positive, Negative or Zero?\n"
   ]
  },
  {
   "cell_type": "code",
   "execution_count": 17,
   "id": "99b76960",
   "metadata": {},
   "outputs": [
    {
     "name": "stdout",
     "output_type": "stream",
     "text": [
      "enter the number9\n",
      "positive number:\n"
     ]
    }
   ],
   "source": [
    "# this code check the number is positive or nagitive.\n",
    "a = int(input(\"enter the number\"))\n",
    "if (a >=0):\n",
    "    print(\"positive number:\")\n",
    "else:\n",
    "    print(\"nagitive number:\")\n",
    "    \n",
    "    \n",
    "    \n"
   ]
  },
  {
   "cell_type": "code",
   "execution_count": 16,
   "id": "4019182e",
   "metadata": {},
   "outputs": [
    {
     "name": "stdout",
     "output_type": "stream",
     "text": [
      "number given by you is negitive:\n"
     ]
    }
   ],
   "source": [
    "def NumberCheck(a):\n",
    "    if (a>=0):\n",
    "        print(\"number given by you is positive:\")\n",
    "    else:\n",
    "        print(\"number given by you is negitive:\")\n",
    "\n",
    "        \n",
    "NumberCheck(-4)"
   ]
  },
  {
   "cell_type": "code",
   "execution_count": null,
   "id": "08fe29a2",
   "metadata": {},
   "outputs": [],
   "source": [
    "Q2. Write a Python Program to Check if a Number is Odd or Even?\n",
    "\n"
   ]
  },
  {
   "cell_type": "code",
   "execution_count": 18,
   "id": "1a767f7f",
   "metadata": {},
   "outputs": [
    {
     "name": "stdout",
     "output_type": "stream",
     "text": [
      "enter the number for check odd or even5\n",
      "number given by you is odd number 5\n"
     ]
    }
   ],
   "source": [
    "# write a code for find the even or odd number:\n",
    "# take the input by the use.\n",
    "num = int(input(\"enter the number for check odd or even\"))\n",
    "\n",
    "# If that number is divisible by two, it means that it is an even number otherwise is odd number.\n",
    "\n",
    "if (num % 2)==0:\n",
    "    print(\"number given by you is even number\",num)\n",
    "else:\n",
    "    print(\"number given by you is odd number\",num)"
   ]
  },
  {
   "cell_type": "code",
   "execution_count": null,
   "id": "6e134c36",
   "metadata": {},
   "outputs": [],
   "source": [
    "Q3. Write a Python Program to Check Leap Year?\n"
   ]
  },
  {
   "cell_type": "code",
   "execution_count": 3,
   "id": "a849fd4f",
   "metadata": {},
   "outputs": [
    {
     "name": "stdout",
     "output_type": "stream",
     "text": [
      "enter the year2000\n",
      "leap year\n"
     ]
    }
   ],
   "source": [
    "x = int(input(\"enter the year\"))\n",
    "result = \"leap year\" if x%400==0 else \"leap year\" if x%4==0 and  x%100!=0 else \"None leap year\"\n",
    "print(result)"
   ]
  },
  {
   "cell_type": "code",
   "execution_count": null,
   "id": "9914fa77",
   "metadata": {},
   "outputs": [],
   "source": [
    "Q4. Write a Python Program to Check Prime Number?\n"
   ]
  },
  {
   "cell_type": "code",
   "execution_count": 4,
   "id": "4a970bd8",
   "metadata": {},
   "outputs": [
    {
     "ename": "SyntaxError",
     "evalue": "invalid syntax (<ipython-input-4-410c997aea36>, line 7)",
     "output_type": "error",
     "traceback": [
      "\u001b[1;36m  File \u001b[1;32m\"<ipython-input-4-410c997aea36>\"\u001b[1;36m, line \u001b[1;32m7\u001b[0m\n\u001b[1;33m    if (num % i) == 0\u001b[0m\n\u001b[1;37m                     ^\u001b[0m\n\u001b[1;31mSyntaxError\u001b[0m\u001b[1;31m:\u001b[0m invalid syntax\n"
     ]
    }
   ],
   "source": [
    "# this code to check the prime number or not.\n",
    "\n",
    "x = int(input(\"enter the number to check the prime number\"))\n",
    "flag = 0\n",
    "if num > 1:\n",
    "    for i in range(2,num):\n",
    "        if (num % i) == 0\n",
    "        glag = 1\n",
    "        break\n",
    "if flag:\n",
    "    print(num,\"is not a prime number\")\n",
    "else:\n",
    "    print(num,\"is a prime number\")\n"
   ]
  }
 ],
 "metadata": {
  "kernelspec": {
   "display_name": "Python 3",
   "language": "python",
   "name": "python3"
  },
  "language_info": {
   "codemirror_mode": {
    "name": "ipython",
    "version": 3
   },
   "file_extension": ".py",
   "mimetype": "text/x-python",
   "name": "python",
   "nbconvert_exporter": "python",
   "pygments_lexer": "ipython3",
   "version": "3.8.8"
  }
 },
 "nbformat": 4,
 "nbformat_minor": 5
}
