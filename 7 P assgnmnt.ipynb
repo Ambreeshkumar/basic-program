{
 "cells": [
  {
   "cell_type": "code",
   "execution_count": null,
   "id": "e937b8c0",
   "metadata": {},
   "outputs": [],
   "source": [
    "Q1. Write a Python Program to find sum of array?\n"
   ]
  },
  {
   "cell_type": "code",
   "execution_count": 1,
   "id": "d9ead67f",
   "metadata": {},
   "outputs": [
    {
     "name": "stdout",
     "output_type": "stream",
     "text": [
      "enter the elements7\n",
      "enter the number3\n",
      "enter the number1\n",
      "enter the number5\n",
      "enter the number4\n",
      "enter the number3\n",
      "enter the number7\n",
      "enter the number9\n",
      "sum of list elements =  32\n"
     ]
    }
   ],
   "source": [
    "# create empty arrat\n",
    "a = []\n",
    "\n",
    "# enter the size of elements by user\n",
    "size = int(input(\"enter the elements\"))\n",
    "for i in range(size):\n",
    "    val = int(input(\"enter the number\"))\n",
    "    a.append(val)\n",
    "sum = 0\n",
    "for i in range(size):\n",
    "    sum = sum+a[i]\n",
    "print(\"sum of list elements = \",sum)\n",
    "    "
   ]
  },
  {
   "cell_type": "code",
   "execution_count": null,
   "id": "0e9bb025",
   "metadata": {},
   "outputs": [],
   "source": [
    "Q2. Write a Python Program to find largest element in an array?\n"
   ]
  },
  {
   "cell_type": "code",
   "execution_count": 2,
   "id": "9160e66f",
   "metadata": {},
   "outputs": [
    {
     "name": "stdout",
     "output_type": "stream",
     "text": [
      "enter the number7\n",
      "enter the number6\n",
      "enter the number3\n",
      "enter the number9\n",
      "enter the number1\n",
      "enter the number2\n",
      "enter the number0\n",
      "enter the number9\n",
      "max number =  9\n"
     ]
    }
   ],
   "source": [
    "# create empty list or arry:\n",
    "a = []\n",
    "size = int(input(\"enter the number\"))\n",
    "for i in range(size):\n",
    "    val = int(input(\"enter the number\"))\n",
    "    a.append(val)\n",
    "max = a[0]\n",
    "for i in range(size):\n",
    "    if(a[i]>max):\n",
    "        max=a[i]\n",
    "print(\"max number = \",max)"
   ]
  },
  {
   "cell_type": "code",
   "execution_count": null,
   "id": "ad3e7222",
   "metadata": {},
   "outputs": [],
   "source": [
    "Q3. Write a Python Program for array rotation?"
   ]
  },
  {
   "cell_type": "code",
   "execution_count": 17,
   "id": "fdb6e694",
   "metadata": {},
   "outputs": [
    {
     "name": "stdout",
     "output_type": "stream",
     "text": [
      "enter the size of list6\n",
      "enter the elements of list9\n",
      "enter the elements of list8\n",
      "enter the elements of list7\n",
      "enter the elements of list6\n",
      "enter the elements of list5\n",
      "enter the elements of list4\n",
      "original list =  [9, 8, 7, 6, 5, 4]\n",
      "rotation list =  [4, 5, 6, 7, 8, 9]\n"
     ]
    }
   ],
   "source": [
    "# create the empty list;\n",
    "a = []\n",
    "# enter the size of list by user\n",
    "size = int(input(\"enter the size of list\"))\n",
    "for i in range(size):\n",
    "    val = int(input(\"enter the elements of list\"))\n",
    "# val variable append in a variable list \n",
    "    a.append(val)\n",
    "print(\"original list = \",a)\n",
    "b=[]\n",
    "\n",
    "# This list of elements is rotated by list sling\n",
    "for i in (a[size::-1]):\n",
    "    b.append(i)\n",
    "print(\"rotation list = \",b)"
   ]
  },
  {
   "cell_type": "code",
   "execution_count": 2,
   "id": "c991c894",
   "metadata": {},
   "outputs": [
    {
     "name": "stdout",
     "output_type": "stream",
     "text": [
      "enter the number4\n",
      "enter the number4\n",
      "enter the number3\n",
      "enter the number2\n",
      "enter the number1\n",
      "list after reverse = \n",
      "[4, 3, 2, 1]\n"
     ]
    }
   ],
   "source": [
    "# It's a second program to totation a list or array:\n",
    "a = []\n",
    "size = int(input(\"enter the number\"))\n",
    "for i in range(size):\n",
    "    val = int(input(\"enter the number\"))\n",
    "    a.append(val)\n",
    "b =[]\n",
    "i = 0\n",
    "j = size-1\n",
    "while(i<j):\n",
    "    t=a[i]\n",
    "    a[i]=a[j]\n",
    "    a[i]=t\n",
    "    i=i+1\n",
    "    j=j-1\n",
    "print(\"list after reverse = \")\n",
    "for i in range(size):\n",
    "    b.append(a[i])\n",
    "print(b)"
   ]
  },
  {
   "cell_type": "code",
   "execution_count": null,
   "id": "45cce8d9",
   "metadata": {},
   "outputs": [],
   "source": [
    "Q4. Write a Python Program to Split the array and add the first part to the end?\n"
   ]
  },
  {
   "cell_type": "code",
   "execution_count": 7,
   "id": "6e363570",
   "metadata": {},
   "outputs": [
    {
     "name": "stdout",
     "output_type": "stream",
     "text": [
      "5 6 52 36 12 10 "
     ]
    }
   ],
   "source": [
    "# Python program to split array and move first\n",
    "# part to end.\n",
    "  \n",
    "def splitArr(a, n, k): \n",
    "   b = a[:k]\n",
    "   return (a[k::]+b[::])\n",
    "          \n",
    "  \n",
    "# main\n",
    "arr = [12, 10, 5, 6, 52, 36]\n",
    "n = len(arr)\n",
    "position = 2\n",
    "arr = splitArr(arr, n, position)\n",
    "for i in range(0, n): \n",
    "    print(arr[i],end = \" \")"
   ]
  },
  {
   "cell_type": "code",
   "execution_count": null,
   "id": "827f1f8b",
   "metadata": {},
   "outputs": [],
   "source": [
    "Q5. Write a Python Program to check if given array is Monotonic?\n"
   ]
  },
  {
   "cell_type": "code",
   "execution_count": 8,
   "id": "58068d97",
   "metadata": {},
   "outputs": [
    {
     "name": "stdout",
     "output_type": "stream",
     "text": [
      "True\n"
     ]
    }
   ],
   "source": [
    "#program to check if given array is monotonic.\n",
    "def isMonotonic(A):\n",
    "    return (all(A[i] <= A[i + 1] for i in range(len(A) - 1)) or\n",
    "            all(A[i] >= A[i + 1] for i in range(len(A) - 1)))\n",
    "  \n",
    "# Driver program\n",
    "A = [6, 5, 4, 4]\n",
    "  \n",
    "# Print required result\n",
    "print(isMonotonic(A))\n",
    "  \n",
    "# This code is written by\n",
    "# Sanjit_Prasad\n",
    "    "
   ]
  },
  {
   "cell_type": "code",
   "execution_count": null,
   "id": "afdeea92",
   "metadata": {},
   "outputs": [],
   "source": []
  }
 ],
 "metadata": {
  "kernelspec": {
   "display_name": "Python 3",
   "language": "python",
   "name": "python3"
  },
  "language_info": {
   "codemirror_mode": {
    "name": "ipython",
    "version": 3
   },
   "file_extension": ".py",
   "mimetype": "text/x-python",
   "name": "python",
   "nbconvert_exporter": "python",
   "pygments_lexer": "ipython3",
   "version": "3.8.8"
  }
 },
 "nbformat": 4,
 "nbformat_minor": 5
}
