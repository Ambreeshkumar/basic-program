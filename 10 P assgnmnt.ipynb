{
 "cells": [
  {
   "cell_type": "code",
   "execution_count": null,
   "id": "74449f12",
   "metadata": {},
   "outputs": [],
   "source": [
    "Q1. Write a Python program to find sum of elements in list?\n"
   ]
  },
  {
   "cell_type": "code",
   "execution_count": 5,
   "id": "59788014",
   "metadata": {},
   "outputs": [
    {
     "name": "stdout",
     "output_type": "stream",
     "text": [
      "enter the size of list5\n",
      "enter the number to list 4\n",
      "enter the number to list 3\n",
      "enter the number to list 2\n",
      "enter the number to list 1\n",
      "enter the number to list 5\n",
      "origalan list [4, 3, 2, 1, 5]\n",
      "sum of element of list 15\n"
     ]
    }
   ],
   "source": [
    "# create dinamice list \n",
    "# this list take the number by use\n",
    "a = []\n",
    "size = int(input(\"enter the size of list\"))\n",
    "for i in range(size):\n",
    "    val=int(input(\"enter the number to list \"))\n",
    "    a.append(val)\n",
    "print(\"origalan list\",a)\n",
    "\n",
    "# summision of element of list:\n",
    "sum = 0\n",
    "for i in (a):\n",
    "    sum = sum+i\n",
    "print(\"sum of element of list\",sum)\n"
   ]
  },
  {
   "cell_type": "code",
   "execution_count": null,
   "id": "1e5914c5",
   "metadata": {},
   "outputs": [],
   "source": [
    "Q2. Write a Python program to Multiply all numbers in the list?\n"
   ]
  },
  {
   "cell_type": "code",
   "execution_count": 6,
   "id": "ff9601b0",
   "metadata": {},
   "outputs": [
    {
     "name": "stdout",
     "output_type": "stream",
     "text": [
      "enter the size of list3\n",
      "enter the number to list 1\n",
      "enter the number to list 2\n",
      "enter the number to list 3\n",
      "origalan list [1, 2, 3]\n",
      "sum of element of list 6\n"
     ]
    }
   ],
   "source": [
    "\n",
    "\n",
    "# create dinamice list \n",
    "# this list take the number by use\n",
    "a = []\n",
    "size = int(input(\"enter the size of list\"))\n",
    "for i in range(size):\n",
    "    val=int(input(\"enter the number to list \"))\n",
    "    a.append(val)\n",
    "print(\"origalan list\",a)\n",
    "\n",
    "# summision of element of list:\n",
    "sum = 1\n",
    "for i in (a):\n",
    "    sum = sum*i\n",
    "print(\"sum of element of list\",sum)\n"
   ]
  },
  {
   "cell_type": "code",
   "execution_count": null,
   "id": "91890a9f",
   "metadata": {},
   "outputs": [],
   "source": [
    "Q3. Write a Python program to find smallest number in a list?\n"
   ]
  },
  {
   "cell_type": "code",
   "execution_count": 7,
   "id": "f4b61fca",
   "metadata": {},
   "outputs": [
    {
     "name": "stdout",
     "output_type": "stream",
     "text": [
      "enter the size of list5\n",
      "enter the number to list3\n",
      "enter the number to list9\n",
      "enter the number to list6\n",
      "enter the number to list4\n",
      "enter the number to list3\n",
      "original list [3, 9, 6, 4, 3]\n",
      "small number 3\n"
     ]
    }
   ],
   "source": [
    "a = []\n",
    "size = int(input(\"enter the size of list\"))\n",
    "for i in range(size):\n",
    "    val=int(input(\"enter the number to list\"))\n",
    "    a.append(val)\n",
    "print(\"original list\",a)\n",
    "small = a[0]\n",
    "for j in range(size):\n",
    "    if (a[j]<small):\n",
    "        small=a[j]\n",
    "print(\"small number\",small)"
   ]
  },
  {
   "cell_type": "code",
   "execution_count": null,
   "id": "6ee88f7a",
   "metadata": {},
   "outputs": [],
   "source": [
    "Q4. Write a Python program to find largest number in a list?\n"
   ]
  },
  {
   "cell_type": "code",
   "execution_count": null,
   "id": "a68019c6",
   "metadata": {},
   "outputs": [],
   "source": [
    "a = []\n",
    "size = int(input(\"enter the number of size\"))\n",
    "for i in range(size):\n",
    "    val = int(input(\"enter the elements of list\"))\n",
    "    a.append(val)\n",
    "print(\"original list\",a)\n",
    "largest = a[0]\n",
    "for i in range(size):\n",
    "    if (a[i]>largest):\n",
    "        \n",
    "print(\"largest value in list\",largest)"
   ]
  },
  {
   "cell_type": "code",
   "execution_count": null,
   "id": "46937c14",
   "metadata": {},
   "outputs": [],
   "source": [
    "Q5. Write a Python program to find second largest number in a list?"
   ]
  },
  {
   "cell_type": "code",
   "execution_count": 26,
   "id": "c386a422",
   "metadata": {},
   "outputs": [
    {
     "name": "stdout",
     "output_type": "stream",
     "text": [
      "enter the size of list6\n",
      "enter the number to list9\n",
      "enter the number to list13\n",
      "enter the number to list8\n",
      "enter the number to list54\n",
      "enter the number to list9\n",
      "enter the number to list65\n",
      "original list [9, 13, 8, 54, 9, 65]\n",
      "[65, 54, 13, 9, 9, 8]\n",
      "second largest value in list 54\n"
     ]
    }
   ],
   "source": [
    "\n",
    "# this code take input by user\n",
    "a = []\n",
    "size = int(input(\"enter the size of list\"))\n",
    "for i in range(size):\n",
    "    val=int(input(\"enter the number to list\"))\n",
    "    a.append(val)\n",
    "print(\"original list\",a)\n",
    "\n",
    "# sort the list and find the second largest number in list\n",
    "# by the slising list methid;\n",
    "for i in range(size):\n",
    "    for j in range(i+1,size):\n",
    "        if (a[j]>a[i]):\n",
    "            temp = a[i]\n",
    "            a[i] = a[j]\n",
    "            a[j] = temp\n",
    "print(a)\n",
    "print(\"second largest value in list\",a[1])\n"
   ]
  },
  {
   "cell_type": "code",
   "execution_count": null,
   "id": "0f3b2e15",
   "metadata": {},
   "outputs": [],
   "source": [
    "Q6. Write a Python program to find N largest elements from a list?"
   ]
  },
  {
   "cell_type": "code",
   "execution_count": null,
   "id": "0f9c8d4d",
   "metadata": {},
   "outputs": [],
   "source": [
    "# this code to find the largest N number in list\n",
    "# this code take input by user\n",
    "a = []\n",
    "size = int(input(\"enter the size of list\"))\n",
    "for i in range(size):\n",
    "    val=int(input(\"enter the number to list\"))\n",
    "    a.append(val)\n",
    "print(\"original list\",a)\n",
    "\n",
    "# sort the list and find the second largest number in list\n",
    "# by the slising list methid;\n",
    "for i in range(size):\n",
    "    for j in range(i+1,size):\n",
    "        if (a[j]>a[i]):\n",
    "            temp = a[i]\n",
    "            a[i] = a[j]\n",
    "            a[j] = temp\n",
    "print(a)\n",
    "print(\"second largest value in list\",a[1])\n"
   ]
  },
  {
   "cell_type": "code",
   "execution_count": null,
   "id": "7068e488",
   "metadata": {},
   "outputs": [],
   "source": [
    "Q7. Write a Python program to print even numbers in a list?"
   ]
  },
  {
   "cell_type": "code",
   "execution_count": 32,
   "id": "cb66f219",
   "metadata": {},
   "outputs": [
    {
     "name": "stdout",
     "output_type": "stream",
     "text": [
      "enter the size of list5\n",
      "enter the number to list87\n",
      "enter the number to list78\n",
      "enter the number to list4\n",
      "enter the number to list5\n",
      "enter the number to list9\n",
      "original list [87, 78, 4, 5, 9]\n",
      "[78, 4]\n"
     ]
    }
   ],
   "source": [
    "a = []\n",
    "size = int(input(\"enter the size of list\"))\n",
    "for i in range(size):\n",
    "    val=int(input(\"enter the number to list\"))\n",
    "    a.append(val)\n",
    "print(\"original list\",a)\n",
    "\n",
    "list = []\n",
    "for i in (a):\n",
    "    if (i%2==0):\n",
    "        list.append(i)\n",
    "print(\"list of even number\",list)    "
   ]
  },
  {
   "cell_type": "code",
   "execution_count": null,
   "id": "4ca9a94e",
   "metadata": {},
   "outputs": [],
   "source": [
    "Q8. Write a Python program to print odd numbers in a List?"
   ]
  },
  {
   "cell_type": "code",
   "execution_count": 2,
   "id": "6e9a8d06",
   "metadata": {},
   "outputs": [
    {
     "name": "stdout",
     "output_type": "stream",
     "text": [
      "enter the size of list6\n",
      "enter the number to list7\n",
      "enter the number to list6\n",
      "enter the number to list4\n",
      "enter the number to list5\n",
      "enter the number to list2\n",
      "enter the number to list3\n",
      "original list [7, 6, 4, 5, 2, 3]\n",
      "list of odd number [7, 5, 3]\n"
     ]
    }
   ],
   "source": [
    "a = []\n",
    "size = int(input(\"enter the size of list\"))\n",
    "for i in range(size):\n",
    "    val=int(input(\"enter the number to list\"))\n",
    "    a.append(val)\n",
    "print(\"original list\",a)\n",
    "\n",
    "\n",
    "list = []\n",
    "for i in (a):\n",
    "    if (i%2!=0):\n",
    "        list.append(i)\n",
    "print(\"list of odd number\",list)  "
   ]
  },
  {
   "cell_type": "code",
   "execution_count": null,
   "id": "d41ae112",
   "metadata": {},
   "outputs": [],
   "source": [
    "Q8. Write a Python program to Remove empty List from List?"
   ]
  },
  {
   "cell_type": "code",
   "execution_count": 38,
   "id": "341e4f6a",
   "metadata": {},
   "outputs": [
    {
     "name": "stdout",
     "output_type": "stream",
     "text": [
      "original list [1, 2, [], 6, 8, 5, [], [], 9]\n"
     ]
    },
    {
     "data": {
      "text/plain": [
       "[1, 2, 6, 8, 5, 9]"
      ]
     },
     "execution_count": 38,
     "metadata": {},
     "output_type": "execute_result"
    }
   ],
   "source": [
    "# this code to remove empty list from list;\n",
    "# write a code with list comprihansion method;\n",
    "\n",
    "list = [1,2,[],6,8,5,[],[],9]\n",
    "print(\"original list\",list)\n",
    "[x for x in list if x != []]\n"
   ]
  },
  {
   "cell_type": "code",
   "execution_count": null,
   "id": "d0c266ca",
   "metadata": {},
   "outputs": [],
   "source": [
    "Q10. Write a Python program to Cloning or Copying a list?\n"
   ]
  },
  {
   "cell_type": "code",
   "execution_count": 8,
   "id": "f14b6882",
   "metadata": {},
   "outputs": [
    {
     "name": "stdout",
     "output_type": "stream",
     "text": [
      "copy list [1, 4, 2, 6, 4, 8, 9]\n"
     ]
    }
   ],
   "source": [
    "# here defind a function to copy the list \n",
    "def copy(list):\n",
    "    list1 = []\n",
    "    for i in (list):\n",
    "        list1.append(i)\n",
    "    print(\"copy list\",list1)\n",
    "    \n",
    "# here call the function     \n",
    "    \n",
    "list = [1,4,2,6,4,8,9]\n",
    "copy(list)\n"
   ]
  },
  {
   "cell_type": "code",
   "execution_count": 12,
   "id": "cb6fdbb9",
   "metadata": {},
   "outputs": [
    {
     "name": "stdout",
     "output_type": "stream",
     "text": [
      "A [1, 5, 3, 8, 6, 2, 6, 4, 5, 9, 10]\n",
      "B [1, 5, 3, 8, 6, 2, 6, 4, 5, 9, 10]\n",
      "[1, 55, 3, 8, 6, 2, 6, 4, 5, 9, 10]\n"
     ]
    }
   ],
   "source": [
    "# use copying method to copy the list:\n",
    "# copy() method is used to copy all elements of a list to another list.\n",
    "# when we copy a list separate copy of all elements is stored in another list.\n",
    "# both the list are independent.\n",
    "\n",
    "\n",
    "# cloning list \n",
    "# we can clone alist into another list using slicing.\n",
    "# when we clone a list a separate copy of all the elements is stored in another\n",
    "# list. both thelist are independent.\n",
    "\n",
    "\n",
    "\n",
    "a= [1,5,3,8,6,2,6,4,5,9,10]\n",
    "b = a.copy()\n",
    "print(\"A\",a)\n",
    "print(\"B\",b)\n",
    "a[1]=55\n",
    "print(a)"
   ]
  },
  {
   "cell_type": "code",
   "execution_count": null,
   "id": "366dca21",
   "metadata": {},
   "outputs": [],
   "source": [
    "Write a Python program to Count occurrences of an element in a list?\n"
   ]
  },
  {
   "cell_type": "code",
   "execution_count": 14,
   "id": "ab799fa3",
   "metadata": {},
   "outputs": [
    {
     "name": "stdout",
     "output_type": "stream",
     "text": [
      "enter the size of list6\n",
      "enter the number to list4\n",
      "enter the number to list4\n",
      "enter the number to list2\n",
      "enter the number to list4\n",
      "enter the number to list8\n",
      "enter the number to list9\n",
      "list =  [4, 4, 2, 4, 8, 9]\n",
      "enter the number to find frequency4\n",
      "frequency =  3\n"
     ]
    }
   ],
   "source": [
    "a = []\n",
    "size = int(input(\"enter the size of list\"))\n",
    "for i in range(size):\n",
    "    val = int(input(\"enter the number to list\"))\n",
    "    a.append(val)\n",
    "print(\"list = \",a)\n",
    "\n",
    "key = int(input(\"enter the number to find frequency\"))\n",
    "count = 0\n",
    "for i in range(size):\n",
    "    if (a[i] == key):\n",
    "        count=count+1\n",
    "print(\"frequency = \",count)\n"
   ]
  }
 ],
 "metadata": {
  "kernelspec": {
   "display_name": "Python 3",
   "language": "python",
   "name": "python3"
  },
  "language_info": {
   "codemirror_mode": {
    "name": "ipython",
    "version": 3
   },
   "file_extension": ".py",
   "mimetype": "text/x-python",
   "name": "python",
   "nbconvert_exporter": "python",
   "pygments_lexer": "ipython3",
   "version": "3.8.8"
  }
 },
 "nbformat": 4,
 "nbformat_minor": 5
}
